{
 "cells": [
  {
   "cell_type": "markdown",
   "source": [
    "## This file was used to debug the model, should be ignored"
   ],
   "metadata": {
    "collapsed": false
   }
  },
  {
   "cell_type": "code",
   "execution_count": 1,
   "outputs": [],
   "source": [
    "import pytorch_lightning as pl\n",
    "import torch.nn as nn\n",
    "import torch\n",
    "import torch.optim as optim"
   ],
   "metadata": {
    "collapsed": false
   }
  },
  {
   "cell_type": "code",
   "execution_count": 2,
   "outputs": [],
   "source": [
    "class CNN_block(nn.Module):\n",
    "    \"\"\"\n",
    "    One CNN block consists of a 1D (3) convolution, a Max pooling and a Batch normalization\n",
    "    \"\"\"\n",
    "    def __init__(self, input_size, kernel_size, in_channels, out_channels):\n",
    "        super().__init__()\n",
    "        self.net = nn.Sequential(\n",
    "            nn.Conv1d(in_channels=in_channels,\n",
    "                      out_channels=out_channels,\n",
    "                      kernel_size=kernel_size,\n",
    "                      padding=\"same\"),\n",
    "            nn.BatchNorm1d(out_channels),\n",
    "            nn.ReLU(),\n",
    "            nn.MaxPool1d(2)\n",
    "        )\n",
    "\n",
    "    def forward(self, x):\n",
    "        return self.net(x)"
   ],
   "metadata": {
    "collapsed": false
   }
  },
  {
   "cell_type": "code",
   "execution_count": 3,
   "outputs": [],
   "source": [
    "def create_model(model_name, model_hparams):\n",
    "    model = nn.Sequential(\n",
    "        CNN_block(3000, 3, 1, 32),\n",
    "        CNN_block(1500, 3, 32, 64),\n",
    "        CNN_block(750, 3, 64, 64),\n",
    "        nn.Flatten(),\n",
    "        nn.Linear(in_features=375*64, out_features=256),\n",
    "        nn.ReLU(),\n",
    "        nn.Linear(in_features=256, out_features=5)\n",
    "    )\n",
    "    return model"
   ],
   "metadata": {
    "collapsed": false
   }
  },
  {
   "cell_type": "code",
   "execution_count": 4,
   "outputs": [],
   "source": [
    "class CNNmodel(pl.LightningModule):\n",
    "    def __init__(self, model_name, model_hparams, optimizer_name, optimizer_hparams):\n",
    "        super().__init__()\n",
    "        # Exports the hyperparameters to a YAML file, and create \"self.hparams\" namespace\n",
    "        self.save_hyperparameters()\n",
    "        self.loss_module = nn.CrossEntropyLoss()\n",
    "\n",
    "        # Create model\n",
    "        self.model = create_model(model_name, model_hparams)\n",
    "\n",
    "        # Example input for visualizing the graph in Tensorboard\n",
    "        self.example_input_array = torch.zeros((1, 3000), dtype=torch.float32)\n",
    "\n",
    "    def forward(self, x):\n",
    "        return self.model(x)\n",
    "\n",
    "    def configure_optimizers(self):\n",
    "        # We will support Adam or SGD as optimizers.\n",
    "        if self.hparams.optimizer_name == \"Adam\":\n",
    "            # AdamW is Adam with a correct implementation of weight decay (see here for details: https://arxiv.org/pdf/1711.05101.pdf)\n",
    "            optimizer = optim.AdamW(\n",
    "                self.parameters(), **self.hparams.optimizer_hparams)\n",
    "        elif self.hparams.optimizer_name == \"SGD\":\n",
    "            optimizer = optim.SGD(self.parameters(), **self.hparams.optimizer_hparams)\n",
    "        else:\n",
    "            assert False, f\"Unknown optimizer: \\\"{self.hparams.optimizer_name}\\\"\"\n",
    "\n",
    "        # We will reduce the learning rate by 0.1 after 100 and 150 epochs\n",
    "        scheduler = optim.lr_scheduler.MultiStepLR(\n",
    "            optimizer, milestones=[100, 150], gamma=0.1)\n",
    "        return [optimizer], [scheduler]\n",
    "\n",
    "    def training_step(self, batch, batch_idx):\n",
    "        inputs, labels = batch\n",
    "        preds = self.model(inputs)\n",
    "        loss = self.loss_module(preds, labels)\n",
    "        acc = (preds.argmax(dim=-1) == labels).float().mean()\n",
    "\n",
    "        # Logs the accuracy per epoch to tensorboard (weighted average over batches)\n",
    "        self.log('train_acc', acc, on_step=False, on_epoch=True)\n",
    "        self.log('train_loss', loss)\n",
    "        return loss  # Return tensor to call \".backward\" on\n",
    "\n",
    "    def validation_step(self, batch, batch_idx):\n",
    "        inputs, labels = batch\n",
    "        preds = self.model(inputs)\n",
    "        acc = (labels == preds.argmax(dim=-1)).float().mean()\n",
    "        self.log('val_acc', acc)\n",
    "\n",
    "    def test_step(self, batch, batch_idx):\n",
    "        inputs, labels = batch\n",
    "        preds = self.model(inputs)\n",
    "        acc = (labels == preds.argmax(dim=-1)).float().mean()\n",
    "        self.log('test_acc', acc)"
   ],
   "metadata": {
    "collapsed": false
   }
  },
  {
   "cell_type": "code",
   "execution_count": 5,
   "outputs": [
    {
     "data": {
      "text/plain": "torch.Size([64, 1, 3000])"
     },
     "execution_count": 5,
     "metadata": {},
     "output_type": "execute_result"
    }
   ],
   "source": [
    "from data import EEGdataModule\n",
    "dm = EEGdataModule('../../data/')\n",
    "dm.setup()\n",
    "batch, labels = next(iter(dm.train_dataloader()))\n",
    "batch.shape"
   ],
   "metadata": {
    "collapsed": false
   }
  },
  {
   "cell_type": "code",
   "execution_count": 6,
   "outputs": [],
   "source": [
    "net = CNNmodel(model_name=\"1D_CNN\",\n",
    "                 model_hparams={},\n",
    "                 optimizer_name=\"Adam\",\n",
    "                 optimizer_hparams={\n",
    "                     \"lr\": 1e-3,\n",
    "                     \"weight_decay\": 1e-4\n",
    "                 })\n"
   ],
   "metadata": {
    "collapsed": false
   }
  },
  {
   "cell_type": "markdown",
   "source": [],
   "metadata": {
    "collapsed": false
   }
  },
  {
   "cell_type": "code",
   "execution_count": 7,
   "outputs": [
    {
     "name": "stdout",
     "output_type": "stream",
     "text": [
      "tensor([2., 2., 2., 4., 0., 2., 2., 0., 0., 0., 1., 2., 4., 2., 0., 2., 0., 2.,\n",
      "        0., 2., 0., 2., 2., 2., 3., 0., 0., 3., 2., 3., 2., 2., 0., 0., 2., 4.,\n",
      "        2., 0., 3., 2., 0., 2., 0., 2., 2., 3., 2., 0., 2., 0., 2., 2., 0., 0.,\n",
      "        0., 4., 0., 4., 3., 0., 2., 2., 0., 0.])\n"
     ]
    }
   ],
   "source": [
    "preds = net(batch)\n",
    "print(labels)"
   ],
   "metadata": {
    "collapsed": false
   }
  },
  {
   "cell_type": "code",
   "execution_count": 8,
   "outputs": [
    {
     "data": {
      "text/plain": "tensor(1.6880, grad_fn=<NllLossBackward0>)"
     },
     "execution_count": 8,
     "metadata": {},
     "output_type": "execute_result"
    }
   ],
   "source": [
    "loss = nn.CrossEntropyLoss()\n",
    "\n",
    "loss(preds, labels.long())"
   ],
   "metadata": {
    "collapsed": false
   }
  },
  {
   "cell_type": "code",
   "execution_count": 4,
   "outputs": [
    {
     "data": {
      "text/plain": "torch.Size([5, 32, 3000])"
     },
     "execution_count": 4,
     "metadata": {},
     "output_type": "execute_result"
    }
   ],
   "source": [
    "input = torch.zeros((5,1,3000), dtype=torch.float32)\n",
    "net = nn.Conv1d(in_channels=1, out_channels=32, kernel_size=3, padding=\"same\")\n",
    "net2 = nn.BatchNorm1d(32)\n",
    "net2(net(input)).shape"
   ],
   "metadata": {
    "collapsed": false
   }
  },
  {
   "cell_type": "code",
   "execution_count": 5,
   "outputs": [
    {
     "ename": "TypeError",
     "evalue": "__init__() missing 1 required positional argument: 'out_channels'",
     "output_type": "error",
     "traceback": [
      "\u001B[1;31m---------------------------------------------------------------------------\u001B[0m",
      "\u001B[1;31mTypeError\u001B[0m                                 Traceback (most recent call last)",
      "Input \u001B[1;32mIn [5]\u001B[0m, in \u001B[0;36m<cell line: 3>\u001B[1;34m()\u001B[0m\n\u001B[0;32m      1\u001B[0m \u001B[38;5;28minput\u001B[39m \u001B[38;5;241m=\u001B[39m torch\u001B[38;5;241m.\u001B[39mzeros((\u001B[38;5;241m5\u001B[39m,\u001B[38;5;241m1\u001B[39m,\u001B[38;5;241m3000\u001B[39m), dtype\u001B[38;5;241m=\u001B[39mtorch\u001B[38;5;241m.\u001B[39mfloat32)\n\u001B[0;32m      3\u001B[0m net \u001B[38;5;241m=\u001B[39m nn\u001B[38;5;241m.\u001B[39mSequential(\n\u001B[1;32m----> 4\u001B[0m         \u001B[43mCNN_block\u001B[49m\u001B[43m(\u001B[49m\u001B[38;5;241;43m3000\u001B[39;49m\u001B[43m,\u001B[49m\u001B[43m \u001B[49m\u001B[38;5;241;43m1\u001B[39;49m\u001B[43m,\u001B[49m\u001B[43m \u001B[49m\u001B[38;5;241;43m32\u001B[39;49m\u001B[43m)\u001B[49m,\n\u001B[0;32m      5\u001B[0m         CNN_block(\u001B[38;5;241m1500\u001B[39m, \u001B[38;5;241m32\u001B[39m, \u001B[38;5;241m64\u001B[39m),\n\u001B[0;32m      6\u001B[0m         CNN_block(\u001B[38;5;241m750\u001B[39m, \u001B[38;5;241m64\u001B[39m, \u001B[38;5;241m64\u001B[39m),\n\u001B[0;32m      7\u001B[0m         nn\u001B[38;5;241m.\u001B[39mFlatten(),\n\u001B[0;32m      8\u001B[0m         nn\u001B[38;5;241m.\u001B[39mLinear(in_features\u001B[38;5;241m=\u001B[39m\u001B[38;5;241m375\u001B[39m\u001B[38;5;241m*\u001B[39m\u001B[38;5;241m64\u001B[39m, out_features\u001B[38;5;241m=\u001B[39m\u001B[38;5;241m256\u001B[39m),\n\u001B[0;32m      9\u001B[0m         nn\u001B[38;5;241m.\u001B[39mReLU(),\n\u001B[0;32m     10\u001B[0m         nn\u001B[38;5;241m.\u001B[39mLinear(in_features\u001B[38;5;241m=\u001B[39m\u001B[38;5;241m256\u001B[39m, out_features\u001B[38;5;241m=\u001B[39m\u001B[38;5;241m10\u001B[39m)\n\u001B[0;32m     11\u001B[0m     )\n\u001B[0;32m     12\u001B[0m net(batch)\u001B[38;5;241m.\u001B[39mshape\n",
      "\u001B[1;31mTypeError\u001B[0m: __init__() missing 1 required positional argument: 'out_channels'"
     ]
    }
   ],
   "source": [
    "input = torch.zeros((5,1,3000), dtype=torch.float32)\n",
    "\n",
    "net = nn.Sequential(\n",
    "        CNN_block(3000, 1, 32),\n",
    "        CNN_block(1500, 32, 64),\n",
    "        CNN_block(750, 64, 64),\n",
    "        nn.Flatten(),\n",
    "        nn.Linear(in_features=375*64, out_features=256),\n",
    "        nn.ReLU(),\n",
    "        nn.Linear(in_features=256, out_features=10)\n",
    "    )\n",
    "net(batch).shape"
   ],
   "metadata": {
    "collapsed": false
   }
  },
  {
   "cell_type": "code",
   "execution_count": null,
   "outputs": [],
   "source": [
    "\n",
    "from torchsummary import summary\n",
    "summary(net, (1, 3000))"
   ],
   "metadata": {
    "collapsed": false
   }
  },
  {
   "cell_type": "code",
   "execution_count": null,
   "outputs": [],
   "source": [],
   "metadata": {
    "collapsed": false
   }
  }
 ],
 "metadata": {
  "kernelspec": {
   "display_name": "Python 3",
   "language": "python",
   "name": "python3"
  },
  "language_info": {
   "codemirror_mode": {
    "name": "ipython",
    "version": 2
   },
   "file_extension": ".py",
   "mimetype": "text/x-python",
   "name": "python",
   "nbconvert_exporter": "python",
   "pygments_lexer": "ipython2",
   "version": "2.7.6"
  }
 },
 "nbformat": 4,
 "nbformat_minor": 0
}
