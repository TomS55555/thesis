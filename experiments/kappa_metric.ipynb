{
 "cells": [
  {
   "cell_type": "code",
   "execution_count": 4,
   "metadata": {
    "collapsed": true
   },
   "outputs": [],
   "source": [
    "import os\n",
    "import pytorch_lightning as pl\n",
    "import torch.utils.data as data\n",
    "import torch.nn as nn\n",
    "\n",
    "from datasets.datasets import SHHSdataset\n",
    "from trainers.train_supervised import train_supervised\n",
    "from default_params import get_supervised_args\n",
    "from models.mymodules import CNN_head\n"
   ]
  },
  {
   "cell_type": "code",
   "execution_count": 5,
   "outputs": [],
   "source": [
    "from models.supervised_model import SupervisedModel\n",
    "\n",
    "test_ds = SHHSdataset(\n",
    "    data_path='../data/',\n",
    "    first_patient=1,\n",
    "    num_patients=10\n",
    ")\n",
    "test_dl = data.DataLoader(\n",
    "    dataset=test_ds,\n",
    "    batch_size=64,\n",
    "    shuffle=False,\n",
    "    num_workers=6\n",
    ")\n",
    "train_path = \"testing_kappa\"\n",
    "save_name = \"test_kappa\"\n",
    "sup_model = SupervisedModel(\n",
    "    encoder=CNN_head(\n",
    "        conv_filters=[32, 64, 64],\n",
    "        representation_dim=100\n",
    "    ),\n",
    "    classifier=nn.Linear(100, 5),\n",
    "    optim_hparams={\n",
    "        \"lr\": 1e-5,\n",
    "        \"weight_decay\": 1e-3,\n",
    "        \"lr_hparams\": None\n",
    "    }\n",
    ")\n",
    "# sup_model = train_supervised(get_supervised_args(save_name, train_path), 'cpu')"
   ],
   "metadata": {
    "collapsed": false
   }
  },
  {
   "cell_type": "code",
   "execution_count": 6,
   "outputs": [
    {
     "name": "stderr",
     "output_type": "stream",
     "text": [
      "GPU available: False, used: False\n",
      "TPU available: False, using: 0 TPU cores\n",
      "IPU available: False, using: 0 IPUs\n",
      "HPU available: False, using: 0 HPUs\n"
     ]
    },
    {
     "data": {
      "text/plain": "Testing: 0it [00:00, ?it/s]",
      "application/vnd.jupyter.widget-view+json": {
       "version_major": 2,
       "version_minor": 0,
       "model_id": "590809d5fda94f658d1dc2323757f2e7"
      }
     },
     "metadata": {},
     "output_type": "display_data"
    },
    {
     "name": "stdout",
     "output_type": "stream",
     "text": [
      "────────────────────────────────────────────────────────────────────────────────────────────────────────────────────────\r\n",
      "       Test metric             DataLoader 0\r\n",
      "────────────────────────────────────────────────────────────────────────────────────────────────────────────────────────\r\n",
      "          kappa            -0.010765397401298516\r\n",
      "        test_acc            0.18375593423843384\r\n",
      "────────────────────────────────────────────────────────────────────────────────────────────────────────────────────────\n"
     ]
    }
   ],
   "source": [
    "trainer = pl.Trainer(\n",
    "        default_root_dir=os.path.join(train_path, \"testing\"),\n",
    "        accelerator=\"cpu\",\n",
    "        devices=1,  # How many GPUs/CPUs to use\n",
    "        enable_progress_bar=True, )\n",
    "test_res = trainer.test(sup_model, dataloaders=test_dl)"
   ],
   "metadata": {
    "collapsed": false
   }
  }
 ],
 "metadata": {
  "kernelspec": {
   "display_name": "Python 3",
   "language": "python",
   "name": "python3"
  },
  "language_info": {
   "codemirror_mode": {
    "name": "ipython",
    "version": 2
   },
   "file_extension": ".py",
   "mimetype": "text/x-python",
   "name": "python",
   "nbconvert_exporter": "python",
   "pygments_lexer": "ipython2",
   "version": "2.7.6"
  }
 },
 "nbformat": 4,
 "nbformat_minor": 0
}
