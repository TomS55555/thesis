{
 "cells": [
  {
   "cell_type": "code",
   "execution_count": 1,
   "metadata": {
    "collapsed": true
   },
   "outputs": [],
   "source": [
    "from datasets.SHHS_dataset_timeonly import EEGdataset"
   ]
  },
  {
   "cell_type": "code",
   "execution_count": 2,
   "outputs": [],
   "source": [
    "ds = EEGdataset('../../data/',1,3)"
   ],
   "metadata": {
    "collapsed": false
   }
  },
  {
   "cell_type": "code",
   "execution_count": 8,
   "outputs": [
    {
     "name": "stdout",
     "output_type": "stream",
     "text": [
      "torch.Size([1, 3000])\n"
     ]
    }
   ],
   "source": [
    "datapoint, label = ds.__getitem__(2)\n",
    "print(datapoint.shape)"
   ],
   "metadata": {
    "collapsed": false
   }
  },
  {
   "cell_type": "code",
   "execution_count": 4,
   "outputs": [
    {
     "name": "stdout",
     "output_type": "stream",
     "text": [
      "torch.Size([2162, 1, 3000])\n"
     ]
    }
   ],
   "source": [
    "import torch\n",
    "import h5py\n",
    "import numpy as np\n",
    "\n",
    "data_path = '../../data/'\n",
    "datapoint = data_path + \"n\" + f\"{1:0=4}\" + \"_eeg.mat\"\n",
    "f = h5py.File(datapoint, 'r')\n",
    "x1 = torch.Tensor(np.array(f.get(\"X1\")))\n",
    "x1 = x1[None, :]\n",
    "x2 = x1.permute(2,0,1)\n",
    "x3 = x2.clone()\n",
    "X1_list = [x2, x3]\n",
    "X1 = torch.cat(X1_list)\n",
    "print(X1.shape)"
   ],
   "metadata": {
    "collapsed": false
   }
  }
 ],
 "metadata": {
  "kernelspec": {
   "display_name": "Python 3",
   "language": "python",
   "name": "python3"
  },
  "language_info": {
   "codemirror_mode": {
    "name": "ipython",
    "version": 2
   },
   "file_extension": ".py",
   "mimetype": "text/x-python",
   "name": "python",
   "nbconvert_exporter": "python",
   "pygments_lexer": "ipython2",
   "version": "2.7.6"
  }
 },
 "nbformat": 4,
 "nbformat_minor": 0
}
