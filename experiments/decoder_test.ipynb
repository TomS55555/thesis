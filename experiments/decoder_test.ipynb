{
 "cells": [
  {
   "cell_type": "code",
   "execution_count": 1,
   "metadata": {
    "collapsed": true
   },
   "outputs": [],
   "source": [
    "from models.mymodules import CNN_block, CNN_head\n",
    "import torch.nn as nn\n",
    "from datasets.datasets import SHHSdataset\n",
    "from torch.utils.data import DataLoader"
   ]
  },
  {
   "cell_type": "code",
   "execution_count": 2,
   "outputs": [],
   "source": [
    "ds = SHHSdataset(\n",
    "    data_path='../../thesis01/data/',\n",
    "    first_patient=1,\n",
    "    num_patients=1\n",
    ")\n",
    "datapoint = ds[0][0]\n",
    "dl = DataLoader(\n",
    "    dataset=ds,\n",
    "    batch_size=64,\n",
    "    shuffle=False\n",
    ")\n",
    "batch = next(iter(dl))"
   ],
   "metadata": {
    "collapsed": false
   }
  },
  {
   "cell_type": "code",
   "execution_count": 3,
   "outputs": [
    {
     "name": "stdout",
     "output_type": "stream",
     "text": [
      "torch.Size([64, 1, 3000])\n"
     ]
    }
   ],
   "source": [
    "import torch\n",
    "x,y = batch\n",
    "x = torch.squeeze(x, 1)\n",
    "print(x.size())"
   ],
   "metadata": {
    "collapsed": false
   }
  },
  {
   "cell_type": "code",
   "execution_count": 4,
   "outputs": [],
   "source": [
    "conv_filters = [32, 64, 64]\n",
    "representation_dim = 100\n",
    "encoder = CNN_head(conv_filters, representation_dim)"
   ],
   "metadata": {
    "collapsed": false
   }
  },
  {
   "cell_type": "code",
   "execution_count": 5,
   "outputs": [
    {
     "name": "stdout",
     "output_type": "stream",
     "text": [
      "torch.Size([64, 1, 100])\n"
     ]
    }
   ],
   "source": [
    "encoding = encoder(x)\n",
    "encoding = encoding[:,None,:]\n",
    "print(encoding.size())"
   ],
   "metadata": {
    "collapsed": false
   }
  },
  {
   "cell_type": "code",
   "execution_count": 6,
   "outputs": [],
   "source": [
    "class Inverse_CNN_block(nn.Module):\n",
    "    \"\"\"\n",
    "        The purpose of this block is to invert the operation of a regular convolution block\n",
    "    \"\"\"\n",
    "    def __init__(self, kernel_size, in_channels, out_channels):\n",
    "        super().__init__()\n",
    "        self.net = nn.Sequential(\n",
    "            nn.ConvTranspose1d(in_channels=in_channels,\n",
    "                               out_channels=out_channels,\n",
    "                               kernel_size=kernel_size,\n",
    "                               stride=2,\n",
    "                               padding=1,\n",
    "                               output_padding=1),\n",
    "            nn.BatchNorm1d(out_channels),\n",
    "            nn.ReLU(),\n",
    "\n",
    "        )\n",
    "\n",
    "    def forward(self, x):\n",
    "        return self.net(x)"
   ],
   "metadata": {
    "collapsed": false
   }
  },
  {
   "cell_type": "code",
   "execution_count": 14,
   "outputs": [],
   "source": [
    "class CNN_decoder(nn.Module):\n",
    "    \"\"\"\n",
    "        Inverse of CNN_head for generational purpose\n",
    "    \"\"\"\n",
    "    def __init__(self, conv_filters, representation_dim):\n",
    "        super().__init__()\n",
    "        self.model = nn.Sequential(\n",
    "            Inverse_CNN_block(3, 1, conv_filters[0]),\n",
    "            Inverse_CNN_block(3, conv_filters[0], conv_filters[1]),\n",
    "            Inverse_CNN_block(3, conv_filters[1], conv_filters[2]),\n",
    "            nn.Flatten(),\n",
    "            nn.Linear(51200, 3000)\n",
    "        )\n",
    "\n",
    "    def forward(self, x):\n",
    "        return self.model(x)"
   ],
   "metadata": {
    "collapsed": false
   }
  },
  {
   "cell_type": "code",
   "execution_count": 15,
   "outputs": [
    {
     "name": "stdout",
     "output_type": "stream",
     "text": [
      "torch.Size([64, 3000])\n"
     ]
    }
   ],
   "source": [
    "decoder = CNN_decoder(conv_filters, representation_dim)\n",
    "decoding = decoder(encoding)\n",
    "print(decoding.size())"
   ],
   "metadata": {
    "collapsed": false
   }
  }
 ],
 "metadata": {
  "kernelspec": {
   "display_name": "Python 3",
   "language": "python",
   "name": "python3"
  },
  "language_info": {
   "codemirror_mode": {
    "name": "ipython",
    "version": 2
   },
   "file_extension": ".py",
   "mimetype": "text/x-python",
   "name": "python",
   "nbconvert_exporter": "python",
   "pygments_lexer": "ipython2",
   "version": "2.7.6"
  }
 },
 "nbformat": 4,
 "nbformat_minor": 0
}
