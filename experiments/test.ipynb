{
 "cells": [
  {
   "cell_type": "code",
   "execution_count": 4,
   "metadata": {
    "collapsed": true
   },
   "outputs": [
    {
     "name": "stdout",
     "output_type": "stream",
     "text": [
      "750\n"
     ]
    }
   ],
   "source": [
    "L_in = 184\n",
    "stride = 4\n",
    "padding = 1\n",
    "dilation = 3\n",
    "kernel_size = 7\n",
    "output_padding = 1\n",
    "\n",
    "L_out = (L_in-1)*stride - 2 *padding + dilation * (kernel_size-1) + output_padding + 1\n",
    "print(L_out)"
   ]
  },
  {
   "cell_type": "code",
   "execution_count": 5,
   "outputs": [
    {
     "name": "stdout",
     "output_type": "stream",
     "text": [
      "3000\n"
     ]
    }
   ],
   "source": [
    "L_in = 750\n",
    "stride = 4\n",
    "padding = 1\n",
    "dilation = 2\n",
    "kernel_size = 3\n",
    "output_padding = 1\n",
    "\n",
    "L_out = (L_in-1)*stride - 2 *padding + dilation * (kernel_size-1) + output_padding + 1\n",
    "print(L_out)"
   ],
   "metadata": {
    "collapsed": false
   }
  },
  {
   "cell_type": "code",
   "execution_count": 6,
   "outputs": [
    {
     "name": "stdout",
     "output_type": "stream",
     "text": [
      "12000\n"
     ]
    }
   ],
   "source": [
    "L_in = 3000\n",
    "stride = 4\n",
    "padding = 1\n",
    "dilation = 2\n",
    "kernel_size = 3\n",
    "output_padding = 1\n",
    "\n",
    "L_out = (L_in-1)*stride - 2 *padding + dilation * (kernel_size-1) + output_padding + 1\n",
    "print(L_out)"
   ],
   "metadata": {
    "collapsed": false
   }
  }
 ],
 "metadata": {
  "kernelspec": {
   "display_name": "Python 3",
   "language": "python",
   "name": "python3"
  },
  "language_info": {
   "codemirror_mode": {
    "name": "ipython",
    "version": 2
   },
   "file_extension": ".py",
   "mimetype": "text/x-python",
   "name": "python",
   "nbconvert_exporter": "python",
   "pygments_lexer": "ipython2",
   "version": "2.7.6"
  }
 },
 "nbformat": 4,
 "nbformat_minor": 0
}
