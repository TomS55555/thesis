{
 "cells": [
  {
   "cell_type": "code",
   "execution_count": 14,
   "metadata": {
    "collapsed": true
   },
   "outputs": [],
   "source": [
    "from datasets.datasets import SHHS_dataset_STFT\n",
    "import torch.nn as nn\n",
    "import torch\n",
    "import constants\n",
    "from models.sleep_transformer import SleepTransformer\n",
    "import torch.utils.data as data"
   ]
  },
  {
   "cell_type": "code",
   "execution_count": 2,
   "outputs": [
    {
     "name": "stdout",
     "output_type": "stream",
     "text": [
      "Size of patients: 2\n"
     ]
    }
   ],
   "source": [
    "ds = SHHS_dataset_STFT(\n",
    "    data_path=constants.SHHS_PATH_DEKSTOP,\n",
    "    first_patient=1,\n",
    "    num_patients=2,\n",
    "    window_size=3,\n",
    ")"
   ],
   "metadata": {
    "collapsed": false
   }
  },
  {
   "cell_type": "code",
   "execution_count": 3,
   "outputs": [],
   "source": [
    "dl = data.DataLoader(\n",
    "    dataset=ds,\n",
    "    batch_size=32,\n",
    "    shuffle=False\n",
    ")"
   ],
   "metadata": {
    "collapsed": false
   }
  },
  {
   "cell_type": "code",
   "execution_count": 4,
   "outputs": [],
   "source": [
    "sleep_transformer = SleepTransformer(\n",
    "    outer_dim=3,\n",
    "    inner_dim=29,\n",
    "    feat_dim=128,\n",
    "    dim_feedforward=1024,\n",
    "    num_heads=8,\n",
    "    num_layers=4\n",
    ")"
   ],
   "metadata": {
    "collapsed": false
   }
  },
  {
   "cell_type": "code",
   "execution_count": 8,
   "outputs": [
    {
     "data": {
      "text/plain": "torch.Size([32, 3, 29, 128])"
     },
     "execution_count": 8,
     "metadata": {},
     "output_type": "execute_result"
    }
   ],
   "source": [
    "batch, labels = next(iter(dl))\n",
    "#batch = batch[:,:,:,1:]\n",
    "batch.shape"
   ],
   "metadata": {
    "collapsed": false
   }
  },
  {
   "cell_type": "code",
   "execution_count": 12,
   "outputs": [
    {
     "name": "stdout",
     "output_type": "stream",
     "text": [
      "torch.Size([32, 3, 5])\n"
     ]
    }
   ],
   "source": [
    "preds = sleep_transformer(batch)\n",
    "print(preds.shape)"
   ],
   "metadata": {
    "collapsed": false
   }
  },
  {
   "cell_type": "code",
   "execution_count": 16,
   "outputs": [
    {
     "name": "stdout",
     "output_type": "stream",
     "text": [
      "tensor(1.4907, grad_fn=<NllLossBackward0>)\n"
     ]
    }
   ],
   "source": [
    "labels_plus = labels.view(32*3,)\n",
    "preds_plus = preds.view(32*3,5)\n",
    "loss = nn.CrossEntropyLoss()\n",
    "print(loss(preds_plus, labels_plus.long()))"
   ],
   "metadata": {
    "collapsed": false
   }
  }
 ],
 "metadata": {
  "kernelspec": {
   "display_name": "Python 3",
   "language": "python",
   "name": "python3"
  },
  "language_info": {
   "codemirror_mode": {
    "name": "ipython",
    "version": 2
   },
   "file_extension": ".py",
   "mimetype": "text/x-python",
   "name": "python",
   "nbconvert_exporter": "python",
   "pygments_lexer": "ipython2",
   "version": "2.7.6"
  }
 },
 "nbformat": 4,
 "nbformat_minor": 0
}
