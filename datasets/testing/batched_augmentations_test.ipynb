{
 "cells": [
  {
   "cell_type": "markdown",
   "source": [
    "# Unit test for batched augmentations"
   ],
   "metadata": {
    "collapsed": false
   }
  },
  {
   "cell_type": "code",
   "execution_count": null,
   "outputs": [],
   "source": [
    "import torch\n",
    "from datasets.datasets import SHHSdataset\n",
    "import constants\n",
    "import torch.utils.data as data\n",
    "from datasets.augmentations import *\n",
    "import matplotlib.pyplot as plt\n",
    "import numpy as np\n"
   ],
   "metadata": {
    "collapsed": false,
    "pycharm": {
     "is_executing": true
    }
   }
  },
  {
   "cell_type": "code",
   "execution_count": 7,
   "outputs": [
    {
     "name": "stdout",
     "output_type": "stream",
     "text": [
      "tensor([[9],\n",
      "        [6],\n",
      "        [4],\n",
      "        [9],\n",
      "        [9]])\n",
      "tensor([[8],\n",
      "        [7],\n",
      "        [9],\n",
      "        [2],\n",
      "        [9]])\n",
      "tensor([[9, 8],\n",
      "        [6, 7],\n",
      "        [4, 9],\n",
      "        [9, 2],\n",
      "        [9, 9]])\n"
     ]
    },
    {
     "data": {
      "text/plain": "tensor([[17],\n        [13],\n        [13],\n        [11],\n        [18]])"
     },
     "execution_count": 7,
     "metadata": {},
     "output_type": "execute_result"
    }
   ],
   "source": [
    "rand_start = torch.randint(0, 10, (5,1))\n",
    "print(rand_start)\n",
    "rand_end = torch.randint(0, 10, (5,1))\n",
    "print(rand_end)\n",
    "ranges = torch.cat((rand_start, rand_end), dim=1)\n",
    "print(ranges)\n",
    "rand_start+rand_end"
   ],
   "metadata": {
    "collapsed": false
   }
  },
  {
   "cell_type": "code",
   "execution_count": 22,
   "outputs": [
    {
     "data": {
      "text/plain": "torch.float32"
     },
     "execution_count": 22,
     "metadata": {},
     "output_type": "execute_result"
    }
   ],
   "source": [
    "ds = SHHSdataset(\n",
    "    data_path=constants.SHHS_PATH_DEKSTOP,\n",
    "    first_patient=1,\n",
    "    num_patients=5\n",
    ")\n",
    "batch_size = 5\n",
    "dl = data.DataLoader(dataset=ds,\n",
    "                     batch_size=batch_size,\n",
    "                     shuffle=False)\n",
    "inputs, labels = list(iter(dl))[0]\n",
    "inputs = inputs.squeeze()\n",
    "inputs.size()\n",
    "inputs.dtype"
   ],
   "metadata": {
    "collapsed": false
   }
  },
  {
   "cell_type": "code",
   "execution_count": 30,
   "outputs": [
    {
     "data": {
      "text/plain": "tensor([[9., 3., 7., 1., 3., 7., 6., 4.],\n        [4., 7., 7., 9., 5., 6., 9., 2.],\n        [8., 2., 5., 0., 0., 8., 5., 0.],\n        [8., 4., 4., 2., 3., 9., 8., 5.],\n        [5., 0., 0., 0., 6., 2., 4., 7.]])"
     },
     "execution_count": 30,
     "metadata": {},
     "output_type": "execute_result"
    }
   ],
   "source": [
    "inputs = torch.randint(0, 10, [batch_size, 8], dtype=torch.float32)\n",
    "inputs"
   ],
   "metadata": {
    "collapsed": false
   }
  },
  {
   "cell_type": "markdown",
   "source": [
    "## Amplitude scale\n"
   ],
   "metadata": {
    "collapsed": false
   }
  },
  {
   "cell_type": "code",
   "execution_count": 31,
   "outputs": [
    {
     "data": {
      "text/plain": "tensor([[ 0.,  0.,  0.,  0.,  0.,  0.,  0.,  0.],\n        [ 4.,  7.,  7.,  9.,  5.,  6.,  9.,  2.],\n        [16.,  4., 10.,  0.,  0., 16., 10.,  0.],\n        [24., 12., 12.,  6.,  9., 27., 24., 15.],\n        [20.,  0.,  0.,  0., 24.,  8., 16., 28.]])"
     },
     "execution_count": 31,
     "metadata": {},
     "output_type": "execute_result"
    }
   ],
   "source": [
    "# Amplitude scale:\n",
    "torch.matmul(torch.diag(torch.arange(5, dtype=torch.float32)), inputs)"
   ],
   "metadata": {
    "collapsed": false
   }
  },
  {
   "cell_type": "code",
   "execution_count": 8,
   "outputs": [
    {
     "ename": "KeyboardInterrupt",
     "evalue": "",
     "output_type": "error",
     "traceback": [
      "\u001B[1;31m---------------------------------------------------------------------------\u001B[0m",
      "\u001B[1;31mKeyboardInterrupt\u001B[0m                         Traceback (most recent call last)",
      "Cell \u001B[1;32mIn[8], line 7\u001B[0m\n\u001B[0;32m      1\u001B[0m am \u001B[38;5;241m=\u001B[39m AmplitudeScale(\n\u001B[0;32m      2\u001B[0m     mini\u001B[38;5;241m=\u001B[39m\u001B[38;5;241m0.5\u001B[39m,\n\u001B[0;32m      3\u001B[0m     maxi\u001B[38;5;241m=\u001B[39m\u001B[38;5;241m2\u001B[39m,\n\u001B[0;32m      4\u001B[0m     prob\u001B[38;5;241m=\u001B[39m\u001B[38;5;241m1\u001B[39m,\n\u001B[0;32m      5\u001B[0m     batch_size\u001B[38;5;241m=\u001B[39mbatch_size\n\u001B[0;32m      6\u001B[0m )\n\u001B[1;32m----> 7\u001B[0m am_inputs\u001B[38;5;241m=\u001B[39m \u001B[43mam\u001B[49m\u001B[43m(\u001B[49m\u001B[43minputs\u001B[49m\u001B[43m,\u001B[49m\u001B[43m \u001B[49m\u001B[43minputs\u001B[49m\u001B[43m)\u001B[49m\n\u001B[0;32m      8\u001B[0m am_inputs\u001B[38;5;241m.\u001B[39msize()\n",
      "File \u001B[1;32m~\\PycharmProjects\\thesis\\datasets\\augmentations.py:75\u001B[0m, in \u001B[0;36mTranformProb.__call__\u001B[1;34m(self, x, x_prev)\u001B[0m\n\u001B[0;32m     72\u001B[0m \u001B[38;5;28mself\u001B[39m\u001B[38;5;241m.\u001B[39mu \u001B[38;5;241m=\u001B[39m \u001B[38;5;28mself\u001B[39m\u001B[38;5;241m.\u001B[39mmin \u001B[38;5;241m+\u001B[39m torch\u001B[38;5;241m.\u001B[39mrand(\u001B[38;5;28mself\u001B[39m\u001B[38;5;241m.\u001B[39mbatch_size) \u001B[38;5;241m*\u001B[39m (\n\u001B[0;32m     73\u001B[0m         \u001B[38;5;28mself\u001B[39m\u001B[38;5;241m.\u001B[39mmax \u001B[38;5;241m-\u001B[39m \u001B[38;5;28mself\u001B[39m\u001B[38;5;241m.\u001B[39mmin)  \u001B[38;5;66;03m# Uniform number between min and max (different for every sample)\u001B[39;00m\n\u001B[0;32m     74\u001B[0m \u001B[38;5;28;01mif\u001B[39;00m torch\u001B[38;5;241m.\u001B[39mrand(\u001B[38;5;241m1\u001B[39m) \u001B[38;5;241m<\u001B[39m \u001B[38;5;28mself\u001B[39m\u001B[38;5;241m.\u001B[39mprob:\n\u001B[1;32m---> 75\u001B[0m     x \u001B[38;5;241m=\u001B[39m \u001B[38;5;28;43mself\u001B[39;49m\u001B[38;5;241;43m.\u001B[39;49m\u001B[43maction\u001B[49m\u001B[43m(\u001B[49m\u001B[43mx\u001B[49m\u001B[43m,\u001B[49m\u001B[43m \u001B[49m\u001B[43mx_prev\u001B[49m\u001B[43m)\u001B[49m\n\u001B[0;32m     76\u001B[0m \u001B[38;5;28;01mreturn\u001B[39;00m x\n",
      "File \u001B[1;32m~\\PycharmProjects\\thesis\\datasets\\augmentations.py:88\u001B[0m, in \u001B[0;36mAmplitudeScale.action\u001B[1;34m(self, x, x_prev)\u001B[0m\n\u001B[0;32m     87\u001B[0m \u001B[38;5;28;01mdef\u001B[39;00m \u001B[38;5;21maction\u001B[39m(\u001B[38;5;28mself\u001B[39m, x, x_prev):\n\u001B[1;32m---> 88\u001B[0m     \u001B[38;5;28;01mreturn\u001B[39;00m \u001B[43mx\u001B[49m \u001B[38;5;241m*\u001B[39m \u001B[38;5;28mself\u001B[39m\u001B[38;5;241m.\u001B[39mu\u001B[38;5;241m.\u001B[39munsqueeze(\u001B[38;5;241m1\u001B[39m)\n",
      "File \u001B[1;32m~\\PycharmProjects\\thesis\\datasets\\augmentations.py:88\u001B[0m, in \u001B[0;36mAmplitudeScale.action\u001B[1;34m(self, x, x_prev)\u001B[0m\n\u001B[0;32m     87\u001B[0m \u001B[38;5;28;01mdef\u001B[39;00m \u001B[38;5;21maction\u001B[39m(\u001B[38;5;28mself\u001B[39m, x, x_prev):\n\u001B[1;32m---> 88\u001B[0m     \u001B[38;5;28;01mreturn\u001B[39;00m \u001B[43mx\u001B[49m \u001B[38;5;241m*\u001B[39m \u001B[38;5;28mself\u001B[39m\u001B[38;5;241m.\u001B[39mu\u001B[38;5;241m.\u001B[39munsqueeze(\u001B[38;5;241m1\u001B[39m)\n",
      "File \u001B[1;32m_pydevd_bundle\\pydevd_cython_win32_39_64.pyx:1179\u001B[0m, in \u001B[0;36m_pydevd_bundle.pydevd_cython_win32_39_64.SafeCallWrapper.__call__\u001B[1;34m()\u001B[0m\n",
      "File \u001B[1;32m_pydevd_bundle\\pydevd_cython_win32_39_64.pyx:620\u001B[0m, in \u001B[0;36m_pydevd_bundle.pydevd_cython_win32_39_64.PyDBFrame.trace_dispatch\u001B[1;34m()\u001B[0m\n",
      "File \u001B[1;32m_pydevd_bundle\\pydevd_cython_win32_39_64.pyx:929\u001B[0m, in \u001B[0;36m_pydevd_bundle.pydevd_cython_win32_39_64.PyDBFrame.trace_dispatch\u001B[1;34m()\u001B[0m\n",
      "File \u001B[1;32m_pydevd_bundle\\pydevd_cython_win32_39_64.pyx:920\u001B[0m, in \u001B[0;36m_pydevd_bundle.pydevd_cython_win32_39_64.PyDBFrame.trace_dispatch\u001B[1;34m()\u001B[0m\n",
      "File \u001B[1;32m_pydevd_bundle\\pydevd_cython_win32_39_64.pyx:317\u001B[0m, in \u001B[0;36m_pydevd_bundle.pydevd_cython_win32_39_64.PyDBFrame.do_wait_suspend\u001B[1;34m()\u001B[0m\n",
      "File \u001B[1;32mC:\\Program Files\\JetBrains\\PyCharm 2022.2.2\\plugins\\python\\helpers\\pydev\\pydevd.py:1160\u001B[0m, in \u001B[0;36mPyDB.do_wait_suspend\u001B[1;34m(self, thread, frame, event, arg, send_suspend_message, is_unhandled_exception)\u001B[0m\n\u001B[0;32m   1157\u001B[0m         from_this_thread\u001B[38;5;241m.\u001B[39mappend(frame_id)\n\u001B[0;32m   1159\u001B[0m \u001B[38;5;28;01mwith\u001B[39;00m \u001B[38;5;28mself\u001B[39m\u001B[38;5;241m.\u001B[39m_threads_suspended_single_notification\u001B[38;5;241m.\u001B[39mnotify_thread_suspended(thread_id, stop_reason):\n\u001B[1;32m-> 1160\u001B[0m     \u001B[38;5;28;43mself\u001B[39;49m\u001B[38;5;241;43m.\u001B[39;49m\u001B[43m_do_wait_suspend\u001B[49m\u001B[43m(\u001B[49m\u001B[43mthread\u001B[49m\u001B[43m,\u001B[49m\u001B[43m \u001B[49m\u001B[43mframe\u001B[49m\u001B[43m,\u001B[49m\u001B[43m \u001B[49m\u001B[43mevent\u001B[49m\u001B[43m,\u001B[49m\u001B[43m \u001B[49m\u001B[43marg\u001B[49m\u001B[43m,\u001B[49m\u001B[43m \u001B[49m\u001B[43msuspend_type\u001B[49m\u001B[43m,\u001B[49m\u001B[43m \u001B[49m\u001B[43mfrom_this_thread\u001B[49m\u001B[43m)\u001B[49m\n",
      "File \u001B[1;32mC:\\Program Files\\JetBrains\\PyCharm 2022.2.2\\plugins\\python\\helpers\\pydev\\pydevd.py:1175\u001B[0m, in \u001B[0;36mPyDB._do_wait_suspend\u001B[1;34m(self, thread, frame, event, arg, suspend_type, from_this_thread)\u001B[0m\n\u001B[0;32m   1172\u001B[0m             \u001B[38;5;28mself\u001B[39m\u001B[38;5;241m.\u001B[39m_call_mpl_hook()\n\u001B[0;32m   1174\u001B[0m         \u001B[38;5;28mself\u001B[39m\u001B[38;5;241m.\u001B[39mprocess_internal_commands()\n\u001B[1;32m-> 1175\u001B[0m         \u001B[43mtime\u001B[49m\u001B[38;5;241;43m.\u001B[39;49m\u001B[43msleep\u001B[49m\u001B[43m(\u001B[49m\u001B[38;5;241;43m0.01\u001B[39;49m\u001B[43m)\u001B[49m\n\u001B[0;32m   1177\u001B[0m \u001B[38;5;28mself\u001B[39m\u001B[38;5;241m.\u001B[39mcancel_async_evaluation(get_current_thread_id(thread), \u001B[38;5;28mstr\u001B[39m(\u001B[38;5;28mid\u001B[39m(frame)))\n\u001B[0;32m   1179\u001B[0m \u001B[38;5;66;03m# process any stepping instructions\u001B[39;00m\n",
      "\u001B[1;31mKeyboardInterrupt\u001B[0m: "
     ]
    }
   ],
   "source": [
    "am = AmplitudeScale(\n",
    "    mini=0.5,\n",
    "    maxi=2,\n",
    "    prob=1,\n",
    "    batch_size=batch_size\n",
    ")\n",
    "am_inputs= am(inputs, inputs)\n",
    "am_inputs.size()"
   ],
   "metadata": {
    "collapsed": false
   }
  },
  {
   "cell_type": "markdown",
   "source": [
    "# Zero mask"
   ],
   "metadata": {
    "collapsed": false
   }
  },
  {
   "cell_type": "code",
   "execution_count": 34,
   "outputs": [
    {
     "data": {
      "text/plain": "tensor([[9., 0., 7., 1., 3., 7., 6., 4.],\n        [0., 0., 0., 0., 5., 6., 9., 2.],\n        [8., 0., 0., 0., 0., 8., 5., 0.],\n        [8., 4., 0., 2., 3., 9., 8., 5.],\n        [0., 0., 0., 0., 0., 2., 4., 7.]])"
     },
     "execution_count": 34,
     "metadata": {},
     "output_type": "execute_result"
    }
   ],
   "source": [
    "masked = torch.clone(inputs)\n",
    "ranges = torch.tensor([[1, 2], [0, 4], [1, 3], [2, 3], [0,5]])\n",
    "indices = torch.arange(inputs.shape[1]).unsqueeze(0)\n",
    "mask = ((indices >= ranges[:, 0].unsqueeze(1)) & (indices < ranges[:, 1].unsqueeze(1)))\n",
    "masked.masked_fill_(mask, 0)"
   ],
   "metadata": {
    "collapsed": false
   }
  },
  {
   "cell_type": "markdown",
   "source": [
    "# Gaussian noise"
   ],
   "metadata": {
    "collapsed": false
   }
  },
  {
   "cell_type": "code",
   "execution_count": 37,
   "outputs": [
    {
     "data": {
      "text/plain": "tensor([[ 0.8263, -0.6738,  1.6873, -1.1548,  2.0940,  1.1151,  0.2025, -0.6751],\n        [-1.6496, -0.6543, -1.2756, -0.9205, -0.0659,  1.1946,  0.3314,  1.1123],\n        [ 1.8914,  1.0199,  1.1558,  0.8622,  0.2452, -0.8128,  2.3878, -0.3254],\n        [-0.3726,  0.8766, -0.6009,  2.0358, -2.3234,  0.3286,  0.6097, -1.1671],\n        [-1.0899, -0.0240,  0.2075, -0.7776, -0.5020, -0.6043,  0.5133,  0.9231]])"
     },
     "execution_count": 37,
     "metadata": {},
     "output_type": "execute_result"
    }
   ],
   "source": [
    "zs = torch.randn_like(inputs)\n",
    "zs"
   ],
   "metadata": {
    "collapsed": false
   }
  },
  {
   "cell_type": "code",
   "execution_count": 38,
   "outputs": [
    {
     "data": {
      "text/plain": "tensor([[ 0.0000,  0.0000,  0.0000,  0.0000,  0.0000,  0.0000,  0.0000,  0.0000],\n        [-1.6496, -0.6543, -1.2756, -0.9205, -0.0659,  1.1946,  0.3314,  1.1123],\n        [ 3.7828,  2.0399,  2.3115,  1.7243,  0.4904, -1.6256,  4.7757, -0.6507],\n        [-1.1177,  2.6299, -1.8028,  6.1074, -6.9701,  0.9859,  1.8290, -3.5014],\n        [-4.3598, -0.0961,  0.8302, -3.1104, -2.0081, -2.4172,  2.0532,  3.6925]])"
     },
     "execution_count": 38,
     "metadata": {},
     "output_type": "execute_result"
    }
   ],
   "source": [
    "stdevs = torch.arange(0, batch_size, dtype=torch.float32)\n",
    "noise = torch.matmul(torch.diag(stdevs), zs)\n",
    "noise"
   ],
   "metadata": {
    "collapsed": false
   }
  },
  {
   "cell_type": "code",
   "execution_count": 39,
   "outputs": [
    {
     "data": {
      "text/plain": "tensor([[ 9.0000,  3.0000,  7.0000,  1.0000,  3.0000,  7.0000,  6.0000,  4.0000],\n        [ 2.3504,  6.3457,  5.7244,  8.0795,  4.9341,  7.1946,  9.3314,  3.1123],\n        [11.7828,  4.0399,  7.3115,  1.7243,  0.4904,  6.3744,  9.7757, -0.6507],\n        [ 6.8823,  6.6299,  2.1972,  8.1074, -3.9701,  9.9859,  9.8290,  1.4986],\n        [ 0.6402, -0.0961,  0.8302, -3.1104,  3.9919, -0.4172,  6.0532, 10.6925]])"
     },
     "execution_count": 39,
     "metadata": {},
     "output_type": "execute_result"
    }
   ],
   "source": [
    "inputs_noise = inputs + noise\n",
    "inputs_noise"
   ],
   "metadata": {
    "collapsed": false
   }
  },
  {
   "cell_type": "markdown",
   "source": [
    "# Timeshift"
   ],
   "metadata": {
    "collapsed": false
   }
  },
  {
   "cell_type": "code",
   "execution_count": 61,
   "outputs": [
    {
     "data": {
      "text/plain": "tensor([[5., 0., 0., 0., 6., 2., 4., 7.],\n        [9., 3., 7., 1., 3., 7., 6., 4.],\n        [4., 7., 7., 9., 5., 6., 9., 2.],\n        [8., 2., 5., 0., 0., 8., 5., 0.],\n        [8., 4., 4., 2., 3., 9., 8., 5.]])"
     },
     "execution_count": 61,
     "metadata": {},
     "output_type": "execute_result"
    }
   ],
   "source": [
    "shifts = (1, -1, 3, 4, 5)\n",
    "prev_inputs = torch.roll(inputs, shifts=1, dims=0)  # Find the previous inputs within the batch!\n",
    "prev_inputs"
   ],
   "metadata": {
    "collapsed": false
   }
  },
  {
   "cell_type": "code",
   "execution_count": 63,
   "outputs": [
    {
     "data": {
      "text/plain": "tensor([[5., 0., 0., 0., 6., 2., 4., 7., 9., 3., 7., 1., 3., 7., 6., 4.],\n        [9., 3., 7., 1., 3., 7., 6., 4., 4., 7., 7., 9., 5., 6., 9., 2.],\n        [4., 7., 7., 9., 5., 6., 9., 2., 8., 2., 5., 0., 0., 8., 5., 0.],\n        [8., 2., 5., 0., 0., 8., 5., 0., 8., 4., 4., 2., 3., 9., 8., 5.],\n        [8., 4., 4., 2., 3., 9., 8., 5., 5., 0., 0., 0., 6., 2., 4., 7.]])"
     },
     "execution_count": 63,
     "metadata": {},
     "output_type": "execute_result"
    }
   ],
   "source": [
    "test = torch.cat((prev_inputs, inputs), dim=1)\n",
    "test"
   ],
   "metadata": {
    "collapsed": false
   }
  },
  {
   "cell_type": "code",
   "execution_count": 64,
   "outputs": [
    {
     "data": {
      "text/plain": "tensor([[9., 3., 7., 1., 3., 7., 6., 4.],\n        [4., 7., 7., 9., 5., 6., 9., 2.],\n        [8., 2., 5., 0., 0., 8., 5., 0.],\n        [8., 4., 4., 2., 3., 9., 8., 5.],\n        [5., 0., 0., 0., 6., 2., 4., 7.]])"
     },
     "execution_count": 64,
     "metadata": {},
     "output_type": "execute_result"
    }
   ],
   "source": [
    "test[:, 8:]"
   ],
   "metadata": {
    "collapsed": false
   }
  },
  {
   "cell_type": "code",
   "execution_count": 51,
   "outputs": [
    {
     "data": {
      "text/plain": "tensor([[4., 9., 3., 7., 1., 3., 7., 6.],\n        [7., 7., 9., 5., 6., 9., 2., 4.],\n        [8., 5., 0., 8., 2., 5., 0., 0.],\n        [3., 9., 8., 5., 8., 4., 4., 2.],\n        [0., 6., 2., 4., 7., 5., 0., 0.]])"
     },
     "execution_count": 51,
     "metadata": {},
     "output_type": "execute_result"
    }
   ],
   "source": [
    "\n",
    "result = torch.stack([torch.roll(inputs[i], shifts[i], dims=0) for i in range(inputs.shape[0])])\n",
    "result"
   ],
   "metadata": {
    "collapsed": false
   }
  },
  {
   "cell_type": "code",
   "execution_count": 49,
   "outputs": [
    {
     "data": {
      "text/plain": "tensor([[9., 3., 7., 1., 3., 7., 6., 4.],\n        [4., 7., 7., 9., 5., 6., 9., 2.],\n        [8., 2., 5., 0., 0., 8., 5., 0.],\n        [8., 4., 4., 2., 3., 9., 8., 5.],\n        [5., 0., 0., 0., 6., 2., 4., 7.]])"
     },
     "execution_count": 49,
     "metadata": {},
     "output_type": "execute_result"
    }
   ],
   "source": [],
   "metadata": {
    "collapsed": false
   }
  },
  {
   "cell_type": "markdown",
   "source": [
    "# Now using the augmentations module"
   ],
   "metadata": {
    "collapsed": false
   }
  },
  {
   "cell_type": "code",
   "execution_count": 2,
   "outputs": [
    {
     "name": "stdout",
     "output_type": "stream",
     "text": [
      "tensor([[4., 6., 2., 2., 4., 5., 2., 5.],\n",
      "        [4., 6., 4., 2., 3., 7., 3., 5.],\n",
      "        [9., 4., 2., 1., 4., 1., 8., 1.],\n",
      "        [9., 9., 6., 4., 2., 4., 0., 0.],\n",
      "        [7., 5., 6., 5., 3., 7., 1., 4.]])\n"
     ]
    }
   ],
   "source": [
    "batch_size = 5\n",
    "inputs = torch.randint(0, 10, [batch_size, 8], dtype=torch.float32)\n",
    "aug_module = AugmentationModule(batch_size=batch_size)\n",
    "print(inputs)"
   ],
   "metadata": {
    "collapsed": false
   }
  },
  {
   "cell_type": "code",
   "execution_count": 4,
   "outputs": [
    {
     "data": {
      "text/plain": "torch.Size([5, 1, 8])"
     },
     "execution_count": 4,
     "metadata": {},
     "output_type": "execute_result"
    }
   ],
   "source": [
    "inputs.unsqueeze(dim=1).size()"
   ],
   "metadata": {
    "collapsed": false
   }
  },
  {
   "cell_type": "code",
   "execution_count": 3,
   "outputs": [
    {
     "name": "stdout",
     "output_type": "stream",
     "text": [
      "tensor([[ 0.,  0.,  0.,  0.,  0.,  0.,  0.,  0.],\n",
      "        [ 9.,  6.,  0.,  1.,  9.,  6.,  0.,  8.],\n",
      "        [ 2.,  0., 18., 14., 18., 10., 12.,  8.],\n",
      "        [ 3., 15.,  0., 12.,  9.,  6., 24., 12.],\n",
      "        [12.,  0.,  8., 20., 32.,  8., 36., 28.]])\n"
     ]
    }
   ],
   "source": [
    "# Amplitude scale\n",
    "print(aug_module.amplitude_scale(inputs, torch.arange(batch_size, dtype=torch.float32)))"
   ],
   "metadata": {
    "collapsed": false
   }
  },
  {
   "cell_type": "code",
   "execution_count": 4,
   "outputs": [
    {
     "name": "stdout",
     "output_type": "stream",
     "text": [
      "tensor([[6., 0., 1., 3., 3., 5., 9., 1.],\n",
      "        [0., 0., 0., 0., 9., 6., 0., 8.],\n",
      "        [1., 0., 0., 7., 9., 5., 6., 4.],\n",
      "        [1., 5., 0., 4., 3., 2., 8., 4.],\n",
      "        [0., 0., 0., 0., 0., 2., 9., 7.]])\n"
     ]
    }
   ],
   "source": [
    "# zero_mask\n",
    "print(aug_module.zero_mask(inputs.clone(), torch.tensor([[1, 2], [0, 4], [1, 3], [2, 3], [0,5]])))"
   ],
   "metadata": {
    "collapsed": false
   }
  },
  {
   "cell_type": "code",
   "execution_count": 5,
   "outputs": [
    {
     "name": "stdout",
     "output_type": "stream",
     "text": [
      "tensor([[ 6.0000e+00,  6.0000e+00,  1.0000e+00,  3.0000e+00,  3.0000e+00,\n",
      "          5.0000e+00,  9.0000e+00,  1.0000e+00],\n",
      "        [ 8.8523e+00,  5.9306e+00,  1.0010e-01,  7.9739e-01,  9.0506e+00,\n",
      "          6.0452e+00, -1.2899e-01,  7.9154e+00],\n",
      "        [ 1.0035e+00, -1.9223e-04,  8.6435e+00,  6.8222e+00,  9.0296e+00,\n",
      "          4.9184e+00,  5.5425e+00,  3.3551e+00],\n",
      "        [ 1.1342e+00,  4.4656e+00,  3.0142e-01,  3.7147e+00,  3.2899e+00,\n",
      "          1.8747e+00,  7.9218e+00,  4.2643e+00],\n",
      "        [ 2.3850e+00,  2.1047e-01,  2.2008e+00,  5.2820e+00,  8.5332e+00,\n",
      "          1.9901e+00,  9.2976e+00,  6.7943e+00]])\n"
     ]
    }
   ],
   "source": [
    "print(aug_module.gaussian_noise(inputs, 0.1*torch.arange(batch_size,dtype=torch.float32)))"
   ],
   "metadata": {
    "collapsed": false
   }
  },
  {
   "cell_type": "code",
   "execution_count": 6,
   "outputs": [
    {
     "name": "stdout",
     "output_type": "stream",
     "text": [
      "tensor([[6., 6., 1., 3., 3., 5., 9., 1.],\n",
      "        [9., 6., 0., 1., 9., 6., 0., 8.],\n",
      "        [1., 0., 9., 7., 9., 5., 6., 4.],\n",
      "        [1., 5., 0., 4., 3., 2., 8., 4.],\n",
      "        [3., 0., 2., 5., 8., 2., 9., 7.]])\n"
     ]
    }
   ],
   "source": [
    "print(inputs)"
   ],
   "metadata": {
    "collapsed": false
   }
  },
  {
   "cell_type": "code",
   "execution_count": 7,
   "outputs": [
    {
     "name": "stdout",
     "output_type": "stream",
     "text": [
      "tensor([[6., 6., 1., 3., 3., 5., 9., 1.],\n",
      "        [1., 9., 6., 0., 1., 9., 6., 0.],\n",
      "        [9., 7., 9., 5., 6., 4., 1., 5.],\n",
      "        [6., 4., 1., 5., 0., 4., 3., 2.],\n",
      "        [2., 5., 8., 2., 9., 7., 6., 6.]])\n"
     ]
    }
   ],
   "source": [
    "print(aug_module.time_shift(inputs.clone(), shifts=(0, 1, -2, 2, -2)))"
   ],
   "metadata": {
    "collapsed": false
   }
  },
  {
   "cell_type": "code",
   "execution_count": 9,
   "outputs": [
    {
     "name": "stdout",
     "output_type": "stream",
     "text": [
      "tensor([[ 2.8516e+00, -1.7544e-03,  1.9029e+00,  4.7508e+00,  7.6028e+00,\n",
      "          1.9039e+00,  8.5494e+00,  6.6477e+00],\n",
      "        [ 9.6100e+00,  1.2185e+00,  9.6179e+00,  6.3876e+00,  3.9815e-02,\n",
      "          1.1063e+00,  9.6585e+00,  6.4354e+00],\n",
      "        [ 8.4366e+00,  6.6222e+00,  8.4338e+00,  4.7032e+00,  5.5719e+00,\n",
      "          3.6945e+00,  1.3161e+00,  5.4018e+00],\n",
      "        [ 4.7032e+00,  5.5719e+00,  3.6945e+00,  1.3161e+00,  5.4018e+00,\n",
      "         -3.7884e-01,  4.1516e+00,  2.8819e+00],\n",
      "        [ 5.1910e+00,  9.6100e+00,  1.2185e+00,  1.3161e+00,  5.4018e+00,\n",
      "         -3.7884e-01,  4.1516e+00,  2.8819e+00]])\n"
     ]
    }
   ],
   "source": [
    "print(aug_module.augment(inputs))"
   ],
   "metadata": {
    "collapsed": false
   }
  },
  {
   "cell_type": "code",
   "execution_count": 10,
   "outputs": [
    {
     "data": {
      "text/plain": "tensor([[6., 6., 1., 3., 3., 5., 9., 1.],\n        [9., 6., 0., 1., 9., 6., 0., 8.],\n        [1., 0., 9., 7., 9., 5., 6., 4.],\n        [1., 5., 0., 4., 3., 2., 8., 4.],\n        [3., 0., 2., 5., 8., 2., 9., 7.]])"
     },
     "execution_count": 10,
     "metadata": {},
     "output_type": "execute_result"
    }
   ],
   "source": [
    "inputs"
   ],
   "metadata": {
    "collapsed": false
   }
  },
  {
   "cell_type": "code",
   "execution_count": 13,
   "outputs": [
    {
     "data": {
      "text/plain": "tensor([[6., 6., 1., 3., 3., 5., 9., 1.],\n        [9., 6., 0., 1., 9., 6., 0., 8.],\n        [1., 0., 9., 7., 9., 5., 6., 4.],\n        [1., 5., 0., 4., 3., 2., 8., 4.],\n        [3., 0., 2., 5., 8., 2., 9., 7.],\n        [6., 6., 1., 3., 3., 5., 9., 1.],\n        [9., 6., 0., 1., 9., 6., 0., 8.],\n        [1., 0., 9., 7., 9., 5., 6., 4.],\n        [1., 5., 0., 4., 3., 2., 8., 4.],\n        [3., 0., 2., 5., 8., 2., 9., 7.]])"
     },
     "execution_count": 13,
     "metadata": {},
     "output_type": "execute_result"
    }
   ],
   "source": [
    "torch.cat((inputs, inputs))"
   ],
   "metadata": {
    "collapsed": false
   }
  }
 ],
 "metadata": {
  "kernelspec": {
   "display_name": "Python 3",
   "language": "python",
   "name": "python3"
  },
  "language_info": {
   "codemirror_mode": {
    "name": "ipython",
    "version": 2
   },
   "file_extension": ".py",
   "mimetype": "text/x-python",
   "name": "python",
   "nbconvert_exporter": "python",
   "pygments_lexer": "ipython2",
   "version": "2.7.6"
  }
 },
 "nbformat": 4,
 "nbformat_minor": 0
}
