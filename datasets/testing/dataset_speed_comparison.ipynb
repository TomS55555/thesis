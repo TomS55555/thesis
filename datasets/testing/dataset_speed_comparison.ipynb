{
 "cells": [
  {
   "cell_type": "code",
   "execution_count": 1,
   "metadata": {
    "collapsed": true
   },
   "outputs": [],
   "source": [
    "import torch\n",
    "import constants\n",
    "from datasets.datasets import SHHSdataset, SHHS_dataset_2"
   ]
  },
  {
   "cell_type": "code",
   "execution_count": 2,
   "outputs": [],
   "source": [
    "first_patient = 1\n",
    "num_patients = 5"
   ],
   "metadata": {
    "collapsed": false
   }
  },
  {
   "cell_type": "code",
   "execution_count": 3,
   "outputs": [],
   "source": [
    "ds1 = SHHSdataset(\n",
    "    data_path=constants.SHHS_PATH_DEKSTOP,\n",
    "    first_patient=first_patient,\n",
    "    num_patients=num_patients\n",
    ")"
   ],
   "metadata": {
    "collapsed": false
   }
  },
  {
   "cell_type": "code",
   "execution_count": 4,
   "outputs": [],
   "source": [
    "\n",
    "ds2 = SHHS_dataset_2(\n",
    "    data_path=constants.SHHS_PATH_DEKSTOP,\n",
    "    first_patient=first_patient,\n",
    "    num_patients=num_patients\n",
    ")"
   ],
   "metadata": {
    "collapsed": false
   }
  },
  {
   "cell_type": "code",
   "execution_count": 5,
   "outputs": [
    {
     "name": "stdout",
     "output_type": "stream",
     "text": [
      "length ds1:  4767  and length ds2:  4767\n"
     ]
    }
   ],
   "source": [
    "print(\"length ds1: \", len(ds1), \" and length ds2: \", len(ds2))"
   ],
   "metadata": {
    "collapsed": false
   }
  },
  {
   "cell_type": "code",
   "execution_count": 6,
   "outputs": [
    {
     "data": {
      "text/plain": "4768"
     },
     "execution_count": 6,
     "metadata": {},
     "output_type": "execute_result"
    }
   ],
   "source": [
    "1081 + 689 + 1049 + 865 + 1084"
   ],
   "metadata": {
    "collapsed": false
   }
  },
  {
   "cell_type": "code",
   "execution_count": 14,
   "outputs": [
    {
     "name": "stdout",
     "output_type": "stream",
     "text": [
      "(tensor([[ 0.1598, -0.1678, -0.7410,  ...,  2.7560,  2.5967,  2.7700]]), tensor(0.))\n",
      "tensor([[ 0.1598, -0.1678, -0.7410,  ...,  2.7560,  2.5967,  2.7700]])\n"
     ]
    }
   ],
   "source": [
    "print(ds1.__getitem__(4767))\n",
    "print(ds2.__getitem__(4767)[0].squeeze(0))"
   ],
   "metadata": {
    "collapsed": false
   }
  },
  {
   "cell_type": "code",
   "execution_count": 7,
   "outputs": [],
   "source": [],
   "metadata": {
    "collapsed": false
   }
  }
 ],
 "metadata": {
  "kernelspec": {
   "display_name": "Python 3",
   "language": "python",
   "name": "python3"
  },
  "language_info": {
   "codemirror_mode": {
    "name": "ipython",
    "version": 2
   },
   "file_extension": ".py",
   "mimetype": "text/x-python",
   "name": "python",
   "nbconvert_exporter": "python",
   "pygments_lexer": "ipython2",
   "version": "2.7.6"
  }
 },
 "nbformat": 4,
 "nbformat_minor": 0
}
