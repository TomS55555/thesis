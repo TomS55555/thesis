{
 "cells": [
  {
   "cell_type": "code",
   "execution_count": 43,
   "metadata": {
    "collapsed": true
   },
   "outputs": [],
   "source": [
    "dict_args = {\n",
    "  \"MODEL_TYPE\": \"LogisticRegressionOnSimCLR\",\n",
    "  \"model_name\": \"logistic_regression01\",\n",
    "\n",
    "  \"encoder_path\": \"../checkpoints/simclr01.ckpt\",\n",
    "\n",
    "  \"DATA_PATH\": \"../data/\",\n",
    "  \"data_split\": [3, 1],\n",
    "  \"CHECKPOINT_PATH\": \"../checkpoints\",\n",
    "  \"first_patient\": 1,\n",
    "  \"num_patients_train\": 5,\n",
    "  \"num_patients_test\": 5,\n",
    "  \"batch_size\": 64,\n",
    "\n",
    "  \"num_workers\": 8,\n",
    "  \"lr\": 1e-3,\n",
    "  \"weight_decay\": 1e-3,\n",
    "  \"max_epochs\": 30\n",
    "}\n",
    "from argparse import Namespace\n",
    "args = Namespace(**dict_args)"
   ]
  },
  {
   "cell_type": "code",
   "execution_count": 7,
   "outputs": [],
   "source": [
    "import os\n",
    "\n",
    "import pytorch_lightning as pl\n",
    "from pytorch_lightning.callbacks import ModelCheckpoint, LearningRateMonitor\n",
    "from tqdm.notebook import tqdm\n",
    "\n",
    "import constants\n",
    "from datasets.SHHS_dataset_timeonly import SHHS_dataset_1, EEGdataModule\n",
    "\n",
    "from models.logistic_regression import LogisticRegression\n",
    "from models.simclr_model import CNNmodel_SimCLR\n",
    "import torch\n",
    "import torch.utils.data as data\n",
    "from copy import deepcopy\n",
    "import torch.nn as nn\n",
    "import matplotlib.pyplot as plt\n",
    "from utils.load_and_save_model import load_model\n"
   ],
   "metadata": {
    "collapsed": false
   }
  },
  {
   "cell_type": "code",
   "execution_count": 3,
   "outputs": [],
   "source": [
    "@torch.no_grad()\n",
    "def prepare_data_features(model, data_loader, device):\n",
    "    # Prepare model\n",
    "    network = deepcopy(model.f)\n",
    "    network.g = nn.Identity()  # Removing projection head g(.)\n",
    "    network.eval()\n",
    "    network.to(device)\n",
    "\n",
    "    # Encode all images\n",
    "    feats, labels = [], []\n",
    "    for batch_inputs, batch_labels in tqdm(data_loader):\n",
    "        batch_inputs = batch_inputs.to(device)\n",
    "        batch_feats = network(batch_inputs.squeeze(dim=1))\n",
    "        feats.append(batch_feats.detach().cpu())\n",
    "        labels.append(batch_labels)\n",
    "\n",
    "    feats = torch.cat(feats, dim=0)\n",
    "    labels = torch.cat(labels, dim=0)\n",
    "\n",
    "    return data.TensorDataset(feats, labels)"
   ],
   "metadata": {
    "collapsed": false
   }
  },
  {
   "cell_type": "code",
   "execution_count": 10,
   "outputs": [],
   "source": [
    "\n",
    "device = torch.device('cpu')\n",
    "model = load_model(CNNmodel_SimCLR, args.encoder_path)  # Load pretrained simclr model\n",
    "dm = EEGdataModule(**dict_args)  # Load datamodule\n",
    "dm.setup()"
   ],
   "metadata": {
    "collapsed": false
   }
  },
  {
   "cell_type": "code",
   "execution_count": 11,
   "outputs": [
    {
     "name": "stderr",
     "output_type": "stream",
     "text": [
      "C:\\Users\\tomsm\\anaconda3\\lib\\site-packages\\torch\\utils\\data\\dataloader.py:563: UserWarning: This DataLoader will create 12 worker processes in total. Our suggested max number of worker in current system is 8 (`cpuset` is not taken into account), which is smaller than what this DataLoader is going to create. Please be aware that excessive worker creation might get DataLoader running slow or even freeze, lower the worker number to avoid potential slowness/freeze if necessary.\n",
      "  warnings.warn(_create_warning_msg(\n"
     ]
    },
    {
     "data": {
      "text/plain": "  0%|          | 0/56 [00:00<?, ?it/s]",
      "application/vnd.jupyter.widget-view+json": {
       "version_major": 2,
       "version_minor": 0,
       "model_id": "618518ff8f2d449c988f9a3c9c904ab8"
      }
     },
     "metadata": {},
     "output_type": "display_data"
    },
    {
     "data": {
      "text/plain": "  0%|          | 0/19 [00:00<?, ?it/s]",
      "application/vnd.jupyter.widget-view+json": {
       "version_major": 2,
       "version_minor": 0,
       "model_id": "0d30ef3064d94be8be38e1cb7ddf492e"
      }
     },
     "metadata": {},
     "output_type": "display_data"
    },
    {
     "data": {
      "text/plain": "  0%|          | 0/81 [00:00<?, ?it/s]",
      "application/vnd.jupyter.widget-view+json": {
       "version_major": 2,
       "version_minor": 0,
       "model_id": "615b4b7c577e4503ba04e8c7bd35f61d"
      }
     },
     "metadata": {},
     "output_type": "display_data"
    }
   ],
   "source": [
    "train_ds = prepare_data_features(model, dm.train_dataloader(), device)\n",
    "val_ds = prepare_data_features(model, dm.val_dataloader(), device)\n",
    "test_ds = prepare_data_features(model, dm.test_dataloader(), device)"
   ],
   "metadata": {
    "collapsed": false
   }
  },
  {
   "cell_type": "code",
   "execution_count": 29,
   "outputs": [
    {
     "data": {
      "text/plain": "(array([1.1574e+04, 2.1240e+03, 1.9870e+03, 1.6480e+03, 1.3950e+03,\n        1.1060e+03, 8.6500e+02, 6.5600e+02, 5.1300e+02, 4.0600e+02,\n        2.9800e+02, 2.6600e+02, 2.1800e+02, 1.5600e+02, 1.2500e+02,\n        1.1900e+02, 9.1000e+01, 8.7000e+01, 7.8000e+01, 5.7000e+01,\n        3.9000e+01, 3.6000e+01, 2.4000e+01, 2.5000e+01, 1.9000e+01,\n        1.8000e+01, 1.4000e+01, 1.1000e+01, 1.0000e+01, 8.0000e+00,\n        3.0000e+00, 7.0000e+00, 2.0000e+00, 6.0000e+00, 0.0000e+00,\n        2.0000e+00, 0.0000e+00, 2.0000e+00, 1.0000e+00, 0.0000e+00,\n        0.0000e+00, 0.0000e+00, 1.0000e+00, 0.0000e+00, 0.0000e+00,\n        1.0000e+00, 0.0000e+00, 1.0000e+00, 0.0000e+00, 1.0000e+00]),\n array([0.        , 0.13488989, 0.26977977, 0.40466964, 0.53955954,\n        0.6744494 , 0.8093393 , 0.9442291 , 1.0791191 , 1.2140089 ,\n        1.3488988 , 1.4837887 , 1.6186786 , 1.7535684 , 1.8884583 ,\n        2.023348  , 2.1582382 , 2.293128  , 2.4280179 , 2.5629077 ,\n        2.6977975 , 2.8326874 , 2.9675775 , 3.1024673 , 3.2373571 ,\n        3.372247  , 3.5071368 , 3.6420267 , 3.7769165 , 3.9118066 ,\n        4.046696  , 4.1815863 , 4.3164763 , 4.451366  , 4.586256  ,\n        4.7211456 , 4.8560357 , 4.9909253 , 5.1258154 , 5.2607055 ,\n        5.395595  , 5.530485  , 5.6653748 , 5.800265  , 5.935155  ,\n        6.0700445 , 6.2049346 , 6.339824  , 6.4747143 , 6.609604  ,\n        6.744494  ], dtype=float32),\n <BarContainer object of 50 artists>)"
     },
     "execution_count": 29,
     "metadata": {},
     "output_type": "execute_result"
    },
    {
     "data": {
      "text/plain": "<Figure size 432x288 with 1 Axes>",
      "image/png": "[encoded data removed]"
     },
     "metadata": {
      "needs_background": "light"
     },
     "output_type": "display_data"
    }
   ],
   "source": [
    "import matplotlib.pyplot as plt\n",
    "import numpy as np\n",
    "feature = train_ds.__getitem__(0)[0]\n",
    "plt.hist(np.asarray(feature), bins=50)"
   ],
   "metadata": {
    "collapsed": false
   }
  },
  {
   "cell_type": "code",
   "execution_count": 35,
   "outputs": [
    {
     "data": {
      "text/plain": "tensor(0.7085)"
     },
     "execution_count": 35,
     "metadata": {},
     "output_type": "execute_result"
    }
   ],
   "source": [
    "sum(feature < 0.51)/feature.size(0)"
   ],
   "metadata": {
    "collapsed": false
   }
  },
  {
   "cell_type": "code",
   "execution_count": 37,
   "outputs": [
    {
     "name": "stderr",
     "output_type": "stream",
     "text": [
      "GPU available: False, used: False\n",
      "TPU available: False, using: 0 TPU cores\n",
      "IPU available: False, using: 0 IPUs\n",
      "HPU available: False, using: 0 HPUs\n"
     ]
    }
   ],
   "source": [
    "trainer = pl.Trainer(default_root_dir=os.path.join(args.CHECKPOINT_PATH, \"LogisticRegression\"),\n",
    "                         accelerator=\"gpu\" if str(device).startswith(\"cuda\") else \"cpu\",\n",
    "                         devices=1,\n",
    "                         max_epochs=args.max_epochs,\n",
    "                         callbacks=[ModelCheckpoint(save_weights_only=True, mode='max', monitor='val_acc'),\n",
    "                                    LearningRateMonitor(\"epoch\")],\n",
    "                         enable_progress_bar=False,\n",
    "                         check_val_every_n_epoch=10)\n",
    "trainer.logger._default_hp_metric = None"
   ],
   "metadata": {
    "collapsed": false
   }
  },
  {
   "cell_type": "code",
   "execution_count": 44,
   "outputs": [],
   "source": [
    "train_loader = data.DataLoader(train_ds, batch_size=args.batch_size, shuffle=True,\n",
    "                                   drop_last=False, pin_memory=True, num_workers=args.num_workers)\n",
    "val_loader = data.DataLoader(val_ds, batch_size=args.batch_size, shuffle=True,\n",
    "                                 drop_last=False, pin_memory=True, num_workers=args.num_workers)\n",
    "test_loader = data.DataLoader(test_ds, batch_size=args.batch_size, shuffle=False,\n",
    "                                  drop_last=False, pin_memory=True, num_workers=args.num_workers)"
   ],
   "metadata": {
    "collapsed": false
   }
  },
  {
   "cell_type": "code",
   "execution_count": 40,
   "outputs": [],
   "source": [
    "log_model = LogisticRegression(feature_dim=int(constants.SLEEP_EPOCH_SIZE/8*model.hparams.model_hparams['conv_filters'][-1]), **dict_args)"
   ],
   "metadata": {
    "collapsed": false
   }
  },
  {
   "cell_type": "code",
   "execution_count": 45,
   "outputs": [
    {
     "name": "stderr",
     "output_type": "stream",
     "text": [
      "Missing logger folder: checkpoints\\LogisticRegression\\lightning_logs\n",
      "\n",
      "  | Name  | Type   | Params\n",
      "---------------------------------\n",
      "0 | model | Linear | 120 K \n",
      "---------------------------------\n",
      "120 K     Trainable params\n",
      "0         Non-trainable params\n",
      "120 K     Total params\n",
      "0.480     Total estimated model params size (MB)\n",
      "C:\\Users\\tomsm\\anaconda3\\lib\\site-packages\\pytorch_lightning\\trainer\\connectors\\data_connector.py:489: PossibleUserWarning: Your `val_dataloader`'s sampler has shuffling enabled, it is strongly recommended that you turn shuffling off for val/test/predict dataloaders.\n",
      "  rank_zero_warn(\n",
      "`Trainer.fit` stopped: `max_epochs=30` reached.\n"
     ]
    }
   ],
   "source": [
    "trainer.fit(log_model, train_loader, val_loader)"
   ],
   "metadata": {
    "collapsed": false
   }
  },
  {
   "cell_type": "code",
   "execution_count": 47,
   "outputs": [
    {
     "name": "stdout",
     "output_type": "stream",
     "text": [
      "checkpoints\\LogisticRegression\\lightning_logs\\version_0\\checkpoints\\epoch=29-step=1680.ckpt\n"
     ]
    }
   ],
   "source": [
    "print(trainer.checkpoint_callback.best_model_path)"
   ],
   "metadata": {
    "collapsed": false
   }
  }
 ],
 "metadata": {
  "kernelspec": {
   "display_name": "Python 3",
   "language": "python",
   "name": "python3"
  },
  "language_info": {
   "codemirror_mode": {
    "name": "ipython",
    "version": 2
   },
   "file_extension": ".py",
   "mimetype": "text/x-python",
   "name": "python",
   "nbconvert_exporter": "python",
   "pygments_lexer": "ipython2",
   "version": "2.7.6"
  }
 },
 "nbformat": 4,
 "nbformat_minor": 0
}
