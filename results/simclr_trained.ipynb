{
 "cells": [
  {
   "cell_type": "code",
   "execution_count": 4,
   "metadata": {
    "collapsed": true
   },
   "outputs": [],
   "source": [
    "from datasets.SHHS_dataset_timeonly import SHHS_dataset_1\n",
    "import torch\n",
    "from utils.load_and_save_model import load_model\n",
    "from models.simclr_model import CNNmodel_SimCLR\n",
    "from torch.utils.data import DataLoader\n",
    "from pytorch_lightning import Trainer\n",
    "from datasets.augmentations import *"
   ]
  },
  {
   "cell_type": "code",
   "execution_count": 5,
   "outputs": [
    {
     "name": "stdout",
     "output_type": "stream",
     "text": [
      "Couldn't find file at path:  ../../thesis01/data/n0146_eeg.mat\n",
      "Couldn't find file at path:  ../../thesis01/data/n0176_eeg.mat\n",
      "Couldn't find file at path:  ../../thesis01/data/n0182_eeg.mat\n"
     ]
    },
    {
     "name": "stderr",
     "output_type": "stream",
     "text": [
      "GPU available: False, used: False\n",
      "TPU available: False, using: 0 TPU cores\n",
      "IPU available: False, using: 0 IPUs\n",
      "HPU available: False, using: 0 HPUs\n",
      "C:\\Users\\tomsm\\anaconda3\\lib\\site-packages\\pytorch_lightning\\trainer\\connectors\\data_connector.py:236: PossibleUserWarning: The dataloader, test_dataloader 0, does not have many workers which may be a bottleneck. Consider increasing the value of the `num_workers` argument` (try 12 which is the number of cpus on this machine) in the `DataLoader` init to improve performance.\n",
      "  rank_zero_warn(\n"
     ]
    },
    {
     "data": {
      "text/plain": "Testing: 0it [00:00, ?it/s]",
      "application/vnd.jupyter.widget-view+json": {
       "version_major": 2,
       "version_minor": 0,
       "model_id": "e8ba3377e32342e99f8a454e52cd4824"
      }
     },
     "metadata": {},
     "output_type": "display_data"
    },
    {
     "name": "stdout",
     "output_type": "stream",
     "text": [
      "[{'test_loss': 0.7010564804077148, 'test_acc_top1': 0.910166323184967, 'test_acc_top5': 0.9576674103736877, 'test_acc_mean_pos': 3.4029109477996826}]\n"
     ]
    }
   ],
   "source": [
    "model = load_model(CNNmodel_SimCLR, '../trained_models/simclr01.ckpt')\n",
    "\n",
    "p = 1\n",
    "dict_args = {  \"transform-prob\": 1.0,\n",
    "  \"amplitude-min\": 0.5,\n",
    "  \"amplitude-max\": 2,\n",
    "  \"timeshift-min\": 5,\n",
    "  \"timeshift-max\": 300,\n",
    "  \"zeromask-min\": 0,\n",
    "  \"zeromask-max\": 300,\n",
    "  \"noise-min\": 0,\n",
    "  \"noise-max\": 0.3\n",
    "}\n",
    "contrast_transforms = ContrastiveTransformations(\n",
    "        [\n",
    "            AmplitudeScale(dict_args[\"amplitude-min\"], dict_args[\"amplitude-max\"], p, 1),\n",
    "            GaussianNoise(dict_args[\"noise-min\"], dict_args[\"noise-max\"], p, 1),\n",
    "            ZeroMask(dict_args[\"zeromask-min\"], dict_args[\"zeromask-max\"], p, 1),\n",
    "            TimeShift(dict_args[\"timeshift-min\"], dict_args[\"timeshift-max\"], p, 1)\n",
    "        ], n_views=2\n",
    "    )\n",
    "test_ds = SHHS_dataset_1(\n",
    "    data_path='../../thesis01/data/',\n",
    "    first_patient=140,\n",
    "    num_patients=50,\n",
    "    transform=contrast_transforms\n",
    ")\n",
    "test_dl = DataLoader(test_ds, batch_size=512, shuffle=False)\n",
    "trainer = Trainer()\n",
    "test_result = trainer.test(model, test_dl, verbose=False)\n",
    "print(test_result)"
   ],
   "metadata": {
    "collapsed": false
   }
  },
  {
   "cell_type": "code",
   "execution_count": null,
   "outputs": [],
   "source": [],
   "metadata": {
    "collapsed": false
   }
  }
 ],
 "metadata": {
  "kernelspec": {
   "display_name": "Python 3",
   "language": "python",
   "name": "python3"
  },
  "language_info": {
   "codemirror_mode": {
    "name": "ipython",
    "version": 2
   },
   "file_extension": ".py",
   "mimetype": "text/x-python",
   "name": "python",
   "nbconvert_exporter": "python",
   "pygments_lexer": "ipython2",
   "version": "2.7.6"
  }
 },
 "nbformat": 4,
 "nbformat_minor": 0
}
