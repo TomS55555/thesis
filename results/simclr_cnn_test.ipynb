{
 "cells": [
  {
   "cell_type": "code",
   "execution_count": 1,
   "metadata": {
    "collapsed": true
   },
   "outputs": [],
   "source": [
    "import sys\n",
    "sys.path.extend(['/users/students/r0749898/thesis/'])"
   ]
  },
  {
   "cell_type": "code",
   "execution_count": 2,
   "outputs": [],
   "source": [
    "import os\n",
    "import pytorch_lightning as pl\n",
    "from pytorch_lightning.callbacks import ModelCheckpoint, LearningRateMonitor\n",
    "\n",
    "from datasets.SHHS_dataset_timeonly import SHHS_dataset_1, EEGdataModule\n",
    "\n",
    "from models.simclr_model import SimCLR\n",
    "from models.supervised_model import SupervisedModel\n",
    "import torch\n",
    "import torch.utils.data as data\n",
    "#import matplotlib.pyplot as plt\n",
    "import numpy as np\n",
    "#from sklearn.manifold import TSNE\n",
    "#import seaborn as sns\n",
    "#import pandas as pd\n",
    "from argparse import Namespace\n",
    "from copy import deepcopy\n",
    "from utils.helper_functions import load_model, SimCLRdataModule"
   ],
   "metadata": {
    "collapsed": false
   }
  },
  {
   "cell_type": "markdown",
   "source": [
    "## Define dataset: 10 patients for training, 5 for validation and 30 for testing\n"
   ],
   "metadata": {
    "collapsed": false
   }
  },
  {
   "cell_type": "code",
   "execution_count": 19,
   "outputs": [
    {
     "name": "stdout",
     "output_type": "stream",
     "text": [
      "Couldn't find file at path:  /esat/biomeddata/SHHS_Dataset/no_backup/n0014_eeg.mat\n"
     ]
    }
   ],
   "source": [
    "data_args = {\n",
    "  \"DATA_PATH\": \"/esat/biomeddata/SHHS_Dataset/no_backup/\",\n",
    "  \"data_split\": [2, 1],\n",
    "  \"first_patient\": 1,\n",
    "  \"num_patients_train\": 3,\n",
    "  \"num_patients_test\": 30,\n",
    "  \"batch_size\": 64,\n",
    "  \"num_workers\": 12\n",
    "}\n",
    "\n",
    "dm = EEGdataModule(**data_args)  # Load datamodule\n",
    "dm.setup()"
   ],
   "metadata": {
    "collapsed": false
   }
  },
  {
   "cell_type": "code",
   "execution_count": 20,
   "outputs": [
    {
     "name": "stdout",
     "output_type": "stream",
     "text": [
      "cuda:0\n"
     ]
    }
   ],
   "source": [
    "device = torch.device(\"cpu\") if not torch.cuda.is_available() else torch.device(\"cuda:0\")\n",
    "print(device)"
   ],
   "metadata": {
    "collapsed": false
   }
  },
  {
   "cell_type": "markdown",
   "source": [
    "## Run data through the pretrained SimCLR encoder to get the representations\n",
    "- The SimCLR model was pretrained on 100 patients (+50 for validation)"
   ],
   "metadata": {
    "collapsed": false
   }
  },
  {
   "cell_type": "code",
   "execution_count": 21,
   "outputs": [
    {
     "name": "stderr",
     "output_type": "stream",
     "text": [
      "/users/students/r0749898/miniconda3/envs/newthesisenv/lib/python3.10/site-packages/pytorch_lightning/utilities/parsing.py:268: UserWarning: Attribute 'projector' is an instance of `nn.Module` and is already saved during checkpointing. It is recommended to ignore them using `self.save_hyperparameters(ignore=['projector'])`.\n",
      "  rank_zero_warn(\n"
     ]
    },
    {
     "data": {
      "text/plain": "  0%|          | 0/30 [00:00<?, ?it/s]",
      "application/vnd.jupyter.widget-view+json": {
       "version_major": 2,
       "version_minor": 0,
       "model_id": "8bef10f1fac941f58fbccf049a1fd261"
      }
     },
     "metadata": {},
     "output_type": "display_data"
    },
    {
     "data": {
      "text/plain": "  0%|          | 0/15 [00:00<?, ?it/s]",
      "application/vnd.jupyter.widget-view+json": {
       "version_major": 2,
       "version_minor": 0,
       "model_id": "6151b7cc0c3d49d7b61eab26224aa531"
      }
     },
     "metadata": {},
     "output_type": "display_data"
    },
    {
     "data": {
      "text/plain": "  0%|          | 0/434 [00:00<?, ?it/s]",
      "application/vnd.jupyter.widget-view+json": {
       "version_major": 2,
       "version_minor": 0,
       "model_id": "2a732511901b40cc955ba67c69d78a87"
      }
     },
     "metadata": {},
     "output_type": "display_data"
    }
   ],
   "source": [
    "encoder_path = \"../trained_models/cnn_simclr01.ckpt\"\n",
    "pretrained_model = load_model(SimCLR, encoder_path)  # Load pretrained simclr model\n",
    "simclr_dm = SimCLRdataModule(pretrained_model, dm, data_args['batch_size'], data_args['num_workers'], device)"
   ],
   "metadata": {
    "collapsed": false
   }
  },
  {
   "cell_type": "code",
   "execution_count": 6,
   "outputs": [
    {
     "data": {
      "text/plain": "<Figure size 432x288 with 1 Axes>",
      "image/png": "[encoded data removed]"
     },
     "metadata": {},
     "output_type": "display_data"
    }
   ],
   "source": [
    "## Analyse the features: histogram and t-SNE plot\n",
    "feature = next(iter(simclr_dm.train_dataloader()))[0][0]\n",
    "plt.hist(np.asarray(feature), bins=50)\n",
    "plt.show()"
   ],
   "metadata": {
    "collapsed": false
   }
  },
  {
   "cell_type": "code",
   "execution_count": null,
   "outputs": [],
   "source": [
    "tsne = TSNE(n_components=2, n_iter=300, verbose=1, perplexity=125)\n",
    "x = torch.cat(list(dm.train_dataloader())[0])\n",
    "x, y = train_ds.tensors\n",
    "tsne_results = tsne.fit_transform(x)"
   ],
   "metadata": {
    "collapsed": false
   }
  },
  {
   "cell_type": "code",
   "execution_count": null,
   "outputs": [],
   "source": [
    "df = pd.DataFrame()\n",
    "df['comp-1'] = tsne_results[:,0]\n",
    "df['comp-2'] = tsne_results[:,1]\n",
    "df[\"y\"] = y\n",
    "plt.figure(figsize=(12, 8))\n",
    "sns.scatterplot(\n",
    "    x=\"comp-1\", y=\"comp-2\",\n",
    "    hue=df.y.tolist(),\n",
    "    palette=sns.color_palette(\"hls\", 5),\n",
    "    data=df,\n",
    "    legend=\"full\",\n",
    "    alpha=0.3\n",
    ")"
   ],
   "metadata": {
    "collapsed": false
   }
  },
  {
   "cell_type": "markdown",
   "source": [
    "## Train a logistic classifier on top\n"
   ],
   "metadata": {
    "collapsed": false
   }
  },
  {
   "cell_type": "code",
   "execution_count": 22,
   "outputs": [
    {
     "name": "stderr",
     "output_type": "stream",
     "text": [
      "Global seed set to 42\n",
      "GPU available: True (cuda), used: True\n",
      "TPU available: False, using: 0 TPU cores\n",
      "IPU available: False, using: 0 IPUs\n",
      "HPU available: False, using: 0 HPUs\n",
      "LOCAL_RANK: 0 - CUDA_VISIBLE_DEVICES: [0]\n",
      "\n",
      "  | Name        | Type             | Params\n",
      "-------------------------------------------------\n",
      "0 | net         | Sequential       | 505   \n",
      "1 | loss_module | CrossEntropyLoss | 0     \n",
      "-------------------------------------------------\n",
      "505       Trainable params\n",
      "0         Non-trainable params\n",
      "505       Total params\n",
      "0.002     Total estimated model params size (MB)\n"
     ]
    },
    {
     "data": {
      "text/plain": "Sanity Checking: 0it [00:00, ?it/s]",
      "application/vnd.jupyter.widget-view+json": {
       "version_major": 2,
       "version_minor": 0,
       "model_id": "095c11aefdb04aeb82114010ec3f4767"
      }
     },
     "metadata": {},
     "output_type": "display_data"
    },
    {
     "name": "stderr",
     "output_type": "stream",
     "text": [
      "/users/students/r0749898/miniconda3/envs/newthesisenv/lib/python3.10/site-packages/pytorch_lightning/trainer/trainer.py:1892: PossibleUserWarning: The number of training batches (30) is smaller than the logging interval Trainer(log_every_n_steps=50). Set a lower value for log_every_n_steps if you want to see logs for the training epoch.\n",
      "  rank_zero_warn(\n"
     ]
    },
    {
     "data": {
      "text/plain": "Training: 0it [00:00, ?it/s]",
      "application/vnd.jupyter.widget-view+json": {
       "version_major": 2,
       "version_minor": 0,
       "model_id": "faee721ebe8d4089aefde71fc7ea38ec"
      }
     },
     "metadata": {},
     "output_type": "display_data"
    },
    {
     "data": {
      "text/plain": "Validation: 0it [00:00, ?it/s]",
      "application/vnd.jupyter.widget-view+json": {
       "version_major": 2,
       "version_minor": 0,
       "model_id": "fc0f21c23a53446e8e24eb24c4d82576"
      }
     },
     "metadata": {},
     "output_type": "display_data"
    },
    {
     "data": {
      "text/plain": "Validation: 0it [00:00, ?it/s]",
      "application/vnd.jupyter.widget-view+json": {
       "version_major": 2,
       "version_minor": 0,
       "model_id": "675b443941994fa58574be96d52a62df"
      }
     },
     "metadata": {},
     "output_type": "display_data"
    },
    {
     "data": {
      "text/plain": "Validation: 0it [00:00, ?it/s]",
      "application/vnd.jupyter.widget-view+json": {
       "version_major": 2,
       "version_minor": 0,
       "model_id": "7c8c3a9a7a0b40a6b9e9dd60216aae61"
      }
     },
     "metadata": {},
     "output_type": "display_data"
    },
    {
     "data": {
      "text/plain": "Validation: 0it [00:00, ?it/s]",
      "application/vnd.jupyter.widget-view+json": {
       "version_major": 2,
       "version_minor": 0,
       "model_id": "636b43bb1af04bec91008371bac7fb46"
      }
     },
     "metadata": {},
     "output_type": "display_data"
    },
    {
     "data": {
      "text/plain": "Validation: 0it [00:00, ?it/s]",
      "application/vnd.jupyter.widget-view+json": {
       "version_major": 2,
       "version_minor": 0,
       "model_id": "1f2fe5a284974621abecc8c97406dda0"
      }
     },
     "metadata": {},
     "output_type": "display_data"
    },
    {
     "data": {
      "text/plain": "Validation: 0it [00:00, ?it/s]",
      "application/vnd.jupyter.widget-view+json": {
       "version_major": 2,
       "version_minor": 0,
       "model_id": "5eb6ac071c914f9eb3aafa20847d6237"
      }
     },
     "metadata": {},
     "output_type": "display_data"
    },
    {
     "data": {
      "text/plain": "Validation: 0it [00:00, ?it/s]",
      "application/vnd.jupyter.widget-view+json": {
       "version_major": 2,
       "version_minor": 0,
       "model_id": "4530480f1d81472b87f8a77b462c5d44"
      }
     },
     "metadata": {},
     "output_type": "display_data"
    },
    {
     "data": {
      "text/plain": "Validation: 0it [00:00, ?it/s]",
      "application/vnd.jupyter.widget-view+json": {
       "version_major": 2,
       "version_minor": 0,
       "model_id": "48b52efd9fb04a428118050983b7892b"
      }
     },
     "metadata": {},
     "output_type": "display_data"
    },
    {
     "data": {
      "text/plain": "Validation: 0it [00:00, ?it/s]",
      "application/vnd.jupyter.widget-view+json": {
       "version_major": 2,
       "version_minor": 0,
       "model_id": "647eb07a57c84736922abdbb97a5809e"
      }
     },
     "metadata": {},
     "output_type": "display_data"
    },
    {
     "data": {
      "text/plain": "Validation: 0it [00:00, ?it/s]",
      "application/vnd.jupyter.widget-view+json": {
       "version_major": 2,
       "version_minor": 0,
       "model_id": "cfd2d740865b4689a7a4a6f9ed371d18"
      }
     },
     "metadata": {},
     "output_type": "display_data"
    },
    {
     "data": {
      "text/plain": "Validation: 0it [00:00, ?it/s]",
      "application/vnd.jupyter.widget-view+json": {
       "version_major": 2,
       "version_minor": 0,
       "model_id": "bf6deb393b79431989d1177a649e565c"
      }
     },
     "metadata": {},
     "output_type": "display_data"
    },
    {
     "data": {
      "text/plain": "Validation: 0it [00:00, ?it/s]",
      "application/vnd.jupyter.widget-view+json": {
       "version_major": 2,
       "version_minor": 0,
       "model_id": "501e1a3e548d4e4ebbf2564b92629abb"
      }
     },
     "metadata": {},
     "output_type": "display_data"
    },
    {
     "data": {
      "text/plain": "Validation: 0it [00:00, ?it/s]",
      "application/vnd.jupyter.widget-view+json": {
       "version_major": 2,
       "version_minor": 0,
       "model_id": "1039105f9d1a4bf5be78f7f4d9af7c82"
      }
     },
     "metadata": {},
     "output_type": "display_data"
    },
    {
     "data": {
      "text/plain": "Validation: 0it [00:00, ?it/s]",
      "application/vnd.jupyter.widget-view+json": {
       "version_major": 2,
       "version_minor": 0,
       "model_id": "7465606c1c424754888b50e696b7e84d"
      }
     },
     "metadata": {},
     "output_type": "display_data"
    },
    {
     "data": {
      "text/plain": "Validation: 0it [00:00, ?it/s]",
      "application/vnd.jupyter.widget-view+json": {
       "version_major": 2,
       "version_minor": 0,
       "model_id": "d47e1f6764b447629c74f9a0f157b518"
      }
     },
     "metadata": {},
     "output_type": "display_data"
    },
    {
     "name": "stderr",
     "output_type": "stream",
     "text": [
      "`Trainer.fit` stopped: `max_epochs=15` reached.\n",
      "LOCAL_RANK: 0 - CUDA_VISIBLE_DEVICES: [0]\n"
     ]
    },
    {
     "data": {
      "text/plain": "Testing: 0it [00:00, ?it/s]",
      "application/vnd.jupyter.widget-view+json": {
       "version_major": 2,
       "version_minor": 0,
       "model_id": "a24ab06a0b8d47d6ac8c8862fd2567c6"
      }
     },
     "metadata": {},
     "output_type": "display_data"
    },
    {
     "name": "stderr",
     "output_type": "stream",
     "text": [
      "LOCAL_RANK: 0 - CUDA_VISIBLE_DEVICES: [0]\n"
     ]
    },
    {
     "data": {
      "text/plain": "Testing: 0it [00:00, ?it/s]",
      "application/vnd.jupyter.widget-view+json": {
       "version_major": 2,
       "version_minor": 0,
       "model_id": "9985b353578b4d4f9a9521d177d28d92"
      }
     },
     "metadata": {},
     "output_type": "display_data"
    },
    {
     "name": "stdout",
     "output_type": "stream",
     "text": [
      "{'test': 0.6281322240829468, 'val': 0.7627659440040588}\n"
     ]
    }
   ],
   "source": [
    "logistic_args = {\n",
    "  \"MODEL_TYPE\": \"SupervisedModel\",\n",
    "  \"save_name\": \"logistic_on_simclr\",\n",
    "  \"DATA_PATH\": data_args['DATA_PATH'],\n",
    "  \"CHECKPOINT_PATH\": \"checkpoints\",\n",
    "\n",
    "  \"encoder\": \"None\",\n",
    "  \"encoder_hparams\": {},\n",
    "\n",
    "  \"classifier\": \"logistic\",\n",
    "  \"classifier_hparams\":{\n",
    "      \"input_dim\": 100\n",
    "  },\n",
    "  \"data_hparams\": data_args,\n",
    "\n",
    "  \"trainer_hparams\":{\n",
    "    \"max_epochs\": 15\n",
    "  },\n",
    "  \"optim_hparams\": {\n",
    "    \"lr\": 1e-3,\n",
    "    \"weight_decay\": 1e-4\n",
    "  }\n",
    "}\n",
    "from trainers.train_supervised import train_supervised\n",
    "model, res = train_supervised(Namespace(**logistic_args), device=device, dm=simclr_dm)\n",
    "print(res)"
   ],
   "metadata": {
    "collapsed": false
   }
  },
  {
   "cell_type": "markdown",
   "source": [
    "## Train a supervised model with the same dataset for comparison\n"
   ],
   "metadata": {
    "collapsed": false
   }
  },
  {
   "cell_type": "code",
   "execution_count": 23,
   "outputs": [
    {
     "name": "stderr",
     "output_type": "stream",
     "text": [
      "Global seed set to 42\n"
     ]
    },
    {
     "name": "stdout",
     "output_type": "stream",
     "text": [
      "Couldn't find file at path:  /esat/biomeddata/SHHS_Dataset/no_backup/n0014_eeg.mat\n"
     ]
    },
    {
     "name": "stderr",
     "output_type": "stream",
     "text": [
      "GPU available: True (cuda), used: True\n",
      "TPU available: False, using: 0 TPU cores\n",
      "IPU available: False, using: 0 IPUs\n",
      "HPU available: False, using: 0 HPUs\n",
      "Missing logger folder: checkpoints/supervised_simclr/lightning_logs\n",
      "LOCAL_RANK: 0 - CUDA_VISIBLE_DEVICES: [0]\n",
      "\n",
      "  | Name        | Type             | Params\n",
      "-------------------------------------------------\n",
      "0 | net         | Sequential       | 2.4 M \n",
      "1 | loss_module | CrossEntropyLoss | 0     \n",
      "-------------------------------------------------\n",
      "2.4 M     Trainable params\n",
      "0         Non-trainable params\n",
      "2.4 M     Total params\n",
      "9.678     Total estimated model params size (MB)\n"
     ]
    },
    {
     "data": {
      "text/plain": "Sanity Checking: 0it [00:00, ?it/s]",
      "application/vnd.jupyter.widget-view+json": {
       "version_major": 2,
       "version_minor": 0,
       "model_id": "1b7d27e5a5a149829c9889739867c1d9"
      }
     },
     "metadata": {},
     "output_type": "display_data"
    },
    {
     "data": {
      "text/plain": "Training: 0it [00:00, ?it/s]",
      "application/vnd.jupyter.widget-view+json": {
       "version_major": 2,
       "version_minor": 0,
       "model_id": "85984fde94554225a11422b1361a186f"
      }
     },
     "metadata": {},
     "output_type": "display_data"
    },
    {
     "data": {
      "text/plain": "Validation: 0it [00:00, ?it/s]",
      "application/vnd.jupyter.widget-view+json": {
       "version_major": 2,
       "version_minor": 0,
       "model_id": "ba33c1d80fa547f191fe65ca114529d8"
      }
     },
     "metadata": {},
     "output_type": "display_data"
    },
    {
     "data": {
      "text/plain": "Validation: 0it [00:00, ?it/s]",
      "application/vnd.jupyter.widget-view+json": {
       "version_major": 2,
       "version_minor": 0,
       "model_id": "8467dc9d70ae49ad94546aac3860c8b8"
      }
     },
     "metadata": {},
     "output_type": "display_data"
    },
    {
     "data": {
      "text/plain": "Validation: 0it [00:00, ?it/s]",
      "application/vnd.jupyter.widget-view+json": {
       "version_major": 2,
       "version_minor": 0,
       "model_id": "79035c6d5009472ab60750a21a19231e"
      }
     },
     "metadata": {},
     "output_type": "display_data"
    },
    {
     "data": {
      "text/plain": "Validation: 0it [00:00, ?it/s]",
      "application/vnd.jupyter.widget-view+json": {
       "version_major": 2,
       "version_minor": 0,
       "model_id": "36b3c7608a8646eabeb970f5ce388476"
      }
     },
     "metadata": {},
     "output_type": "display_data"
    },
    {
     "data": {
      "text/plain": "Validation: 0it [00:00, ?it/s]",
      "application/vnd.jupyter.widget-view+json": {
       "version_major": 2,
       "version_minor": 0,
       "model_id": "2121b0e88f29475ea34a0d25ecf845b3"
      }
     },
     "metadata": {},
     "output_type": "display_data"
    },
    {
     "data": {
      "text/plain": "Validation: 0it [00:00, ?it/s]",
      "application/vnd.jupyter.widget-view+json": {
       "version_major": 2,
       "version_minor": 0,
       "model_id": "8c12d49d0f5f497fa839994c3c0f31bb"
      }
     },
     "metadata": {},
     "output_type": "display_data"
    },
    {
     "data": {
      "text/plain": "Validation: 0it [00:00, ?it/s]",
      "application/vnd.jupyter.widget-view+json": {
       "version_major": 2,
       "version_minor": 0,
       "model_id": "cee9b56a19654492a08ec61611eec2b2"
      }
     },
     "metadata": {},
     "output_type": "display_data"
    },
    {
     "data": {
      "text/plain": "Validation: 0it [00:00, ?it/s]",
      "application/vnd.jupyter.widget-view+json": {
       "version_major": 2,
       "version_minor": 0,
       "model_id": "1efc484911084be4ae86bd6960fd4d84"
      }
     },
     "metadata": {},
     "output_type": "display_data"
    },
    {
     "data": {
      "text/plain": "Validation: 0it [00:00, ?it/s]",
      "application/vnd.jupyter.widget-view+json": {
       "version_major": 2,
       "version_minor": 0,
       "model_id": "789acb726f0d4966a45474f966fe9ddd"
      }
     },
     "metadata": {},
     "output_type": "display_data"
    },
    {
     "data": {
      "text/plain": "Validation: 0it [00:00, ?it/s]",
      "application/vnd.jupyter.widget-view+json": {
       "version_major": 2,
       "version_minor": 0,
       "model_id": "d8f7e94be96d4e41b1a9a34309ce93cd"
      }
     },
     "metadata": {},
     "output_type": "display_data"
    },
    {
     "data": {
      "text/plain": "Validation: 0it [00:00, ?it/s]",
      "application/vnd.jupyter.widget-view+json": {
       "version_major": 2,
       "version_minor": 0,
       "model_id": "28c3883557354fc6822a40d99bdc9d9e"
      }
     },
     "metadata": {},
     "output_type": "display_data"
    },
    {
     "data": {
      "text/plain": "Validation: 0it [00:00, ?it/s]",
      "application/vnd.jupyter.widget-view+json": {
       "version_major": 2,
       "version_minor": 0,
       "model_id": "4169b2cef7854932b580276851a36e16"
      }
     },
     "metadata": {},
     "output_type": "display_data"
    },
    {
     "data": {
      "text/plain": "Validation: 0it [00:00, ?it/s]",
      "application/vnd.jupyter.widget-view+json": {
       "version_major": 2,
       "version_minor": 0,
       "model_id": "c9f28ada984d4196b4b40a7d32f723fd"
      }
     },
     "metadata": {},
     "output_type": "display_data"
    },
    {
     "data": {
      "text/plain": "Validation: 0it [00:00, ?it/s]",
      "application/vnd.jupyter.widget-view+json": {
       "version_major": 2,
       "version_minor": 0,
       "model_id": "671b2c86f839416c8eff971328b3c548"
      }
     },
     "metadata": {},
     "output_type": "display_data"
    },
    {
     "data": {
      "text/plain": "Validation: 0it [00:00, ?it/s]",
      "application/vnd.jupyter.widget-view+json": {
       "version_major": 2,
       "version_minor": 0,
       "model_id": "a929a3d66b754d25acd9e57ff5ca0683"
      }
     },
     "metadata": {},
     "output_type": "display_data"
    },
    {
     "name": "stderr",
     "output_type": "stream",
     "text": [
      "`Trainer.fit` stopped: `max_epochs=15` reached.\n",
      "LOCAL_RANK: 0 - CUDA_VISIBLE_DEVICES: [0]\n"
     ]
    },
    {
     "data": {
      "text/plain": "Testing: 0it [00:00, ?it/s]",
      "application/vnd.jupyter.widget-view+json": {
       "version_major": 2,
       "version_minor": 0,
       "model_id": "43308f4437154d2bb73c6b0922cef048"
      }
     },
     "metadata": {},
     "output_type": "display_data"
    },
    {
     "name": "stderr",
     "output_type": "stream",
     "text": [
      "LOCAL_RANK: 0 - CUDA_VISIBLE_DEVICES: [0]\n"
     ]
    },
    {
     "data": {
      "text/plain": "Testing: 0it [00:00, ?it/s]",
      "application/vnd.jupyter.widget-view+json": {
       "version_major": 2,
       "version_minor": 0,
       "model_id": "f5ff8ad4d9b54a4facc0e938347239fc"
      }
     },
     "metadata": {},
     "output_type": "display_data"
    },
    {
     "name": "stdout",
     "output_type": "stream",
     "text": [
      "{'test': 0.5822652578353882, 'val': 0.6691489219665527}\n"
     ]
    }
   ],
   "source": [
    "supervised_args = {\n",
    "  \"MODEL_TYPE\": \"SupervisedModel\",\n",
    "  \"save_name\": \"supervised_simclr\",\n",
    "  \"DATA_PATH\": data_args['DATA_PATH'],\n",
    "  \"CHECKPOINT_PATH\": \"checkpoints\",\n",
    "\n",
    "  \"encoder\": \"CNN_head\",\n",
    "  \"encoder_hparams\": {\n",
    "    \"conv_filters\": [32, 64, 64],\n",
    "    \"representation_dim\": 100\n",
    "  },\n",
    "\n",
    "  \"classifier\": \"logistic\",\n",
    "  \"classifier_hparams\":{\n",
    "      \"input_dim\": 100\n",
    "  },\n",
    "  \"data_hparams\": data_args,\n",
    "\n",
    "  \"trainer_hparams\":{\n",
    "    \"max_epochs\": 15\n",
    "  },\n",
    "  \"optim_hparams\": {\n",
    "    \"lr\": 1e-3,\n",
    "    \"weight_decay\": 1e-4\n",
    "  }\n",
    "}\n",
    "sup_model, sup_res = train_supervised(Namespace(**supervised_args), device, dm=dm)\n",
    "print(sup_res)"
   ],
   "metadata": {
    "collapsed": false
   }
  },
  {
   "cell_type": "markdown",
   "source": [],
   "metadata": {
    "collapsed": false
   }
  },
  {
   "cell_type": "markdown",
   "source": [
    "## Finetuned supervised model"
   ],
   "metadata": {
    "collapsed": false
   },
   "execution_count": 11
  },
  {
   "cell_type": "code",
   "execution_count": 24,
   "outputs": [
    {
     "name": "stderr",
     "output_type": "stream",
     "text": [
      "Global seed set to 42\n"
     ]
    },
    {
     "name": "stdout",
     "output_type": "stream",
     "text": [
      "Couldn't find file at path:  /esat/biomeddata/SHHS_Dataset/no_backup/n0014_eeg.mat\n"
     ]
    },
    {
     "name": "stderr",
     "output_type": "stream",
     "text": [
      "GPU available: True (cuda), used: True\n",
      "TPU available: False, using: 0 TPU cores\n",
      "IPU available: False, using: 0 IPUs\n",
      "HPU available: False, using: 0 HPUs\n",
      "LOCAL_RANK: 0 - CUDA_VISIBLE_DEVICES: [0]\n",
      "\n",
      "  | Name        | Type             | Params\n",
      "-------------------------------------------------\n",
      "0 | net         | Sequential       | 2.4 M \n",
      "1 | loss_module | CrossEntropyLoss | 0     \n",
      "-------------------------------------------------\n",
      "2.4 M     Trainable params\n",
      "0         Non-trainable params\n",
      "2.4 M     Total params\n",
      "9.678     Total estimated model params size (MB)\n"
     ]
    },
    {
     "data": {
      "text/plain": "Sanity Checking: 0it [00:00, ?it/s]",
      "application/vnd.jupyter.widget-view+json": {
       "version_major": 2,
       "version_minor": 0,
       "model_id": "733baa76866f453995e38ff3d9296496"
      }
     },
     "metadata": {},
     "output_type": "display_data"
    },
    {
     "data": {
      "text/plain": "Training: 0it [00:00, ?it/s]",
      "application/vnd.jupyter.widget-view+json": {
       "version_major": 2,
       "version_minor": 0,
       "model_id": "a015707f1c3346ea87284c266928cf84"
      }
     },
     "metadata": {},
     "output_type": "display_data"
    },
    {
     "data": {
      "text/plain": "Validation: 0it [00:00, ?it/s]",
      "application/vnd.jupyter.widget-view+json": {
       "version_major": 2,
       "version_minor": 0,
       "model_id": "1eb334104fd34a8890ceb75cd6e04964"
      }
     },
     "metadata": {},
     "output_type": "display_data"
    },
    {
     "data": {
      "text/plain": "Validation: 0it [00:00, ?it/s]",
      "application/vnd.jupyter.widget-view+json": {
       "version_major": 2,
       "version_minor": 0,
       "model_id": "618d043b7cb44c548731ebe05d69d678"
      }
     },
     "metadata": {},
     "output_type": "display_data"
    },
    {
     "data": {
      "text/plain": "Validation: 0it [00:00, ?it/s]",
      "application/vnd.jupyter.widget-view+json": {
       "version_major": 2,
       "version_minor": 0,
       "model_id": "b7ab0d5a86a644339ee426904cb11142"
      }
     },
     "metadata": {},
     "output_type": "display_data"
    },
    {
     "data": {
      "text/plain": "Validation: 0it [00:00, ?it/s]",
      "application/vnd.jupyter.widget-view+json": {
       "version_major": 2,
       "version_minor": 0,
       "model_id": "fd61147e29e94573910d2ac70e88d961"
      }
     },
     "metadata": {},
     "output_type": "display_data"
    },
    {
     "data": {
      "text/plain": "Validation: 0it [00:00, ?it/s]",
      "application/vnd.jupyter.widget-view+json": {
       "version_major": 2,
       "version_minor": 0,
       "model_id": "1fe173d330c8418ab448b194bf69ffb3"
      }
     },
     "metadata": {},
     "output_type": "display_data"
    },
    {
     "data": {
      "text/plain": "Validation: 0it [00:00, ?it/s]",
      "application/vnd.jupyter.widget-view+json": {
       "version_major": 2,
       "version_minor": 0,
       "model_id": "2037269b365d46b5b6ee954c948099b5"
      }
     },
     "metadata": {},
     "output_type": "display_data"
    },
    {
     "data": {
      "text/plain": "Validation: 0it [00:00, ?it/s]",
      "application/vnd.jupyter.widget-view+json": {
       "version_major": 2,
       "version_minor": 0,
       "model_id": "330f8d5baed7474ab92150007bb850c1"
      }
     },
     "metadata": {},
     "output_type": "display_data"
    },
    {
     "data": {
      "text/plain": "Validation: 0it [00:00, ?it/s]",
      "application/vnd.jupyter.widget-view+json": {
       "version_major": 2,
       "version_minor": 0,
       "model_id": "e3d6ba89c6d044a8ba8e59bc1ec7977d"
      }
     },
     "metadata": {},
     "output_type": "display_data"
    },
    {
     "data": {
      "text/plain": "Validation: 0it [00:00, ?it/s]",
      "application/vnd.jupyter.widget-view+json": {
       "version_major": 2,
       "version_minor": 0,
       "model_id": "475e87f5bca545098c4bafc87df7ce3e"
      }
     },
     "metadata": {},
     "output_type": "display_data"
    },
    {
     "data": {
      "text/plain": "Validation: 0it [00:00, ?it/s]",
      "application/vnd.jupyter.widget-view+json": {
       "version_major": 2,
       "version_minor": 0,
       "model_id": "8bab3db71cb842d6a6ea46df3db99e7c"
      }
     },
     "metadata": {},
     "output_type": "display_data"
    },
    {
     "data": {
      "text/plain": "Validation: 0it [00:00, ?it/s]",
      "application/vnd.jupyter.widget-view+json": {
       "version_major": 2,
       "version_minor": 0,
       "model_id": "4ec4384a55ff423babb01d9c5ceaa3ee"
      }
     },
     "metadata": {},
     "output_type": "display_data"
    },
    {
     "data": {
      "text/plain": "Validation: 0it [00:00, ?it/s]",
      "application/vnd.jupyter.widget-view+json": {
       "version_major": 2,
       "version_minor": 0,
       "model_id": "6954d5d4877e4f6b87af20b223f0d48d"
      }
     },
     "metadata": {},
     "output_type": "display_data"
    },
    {
     "data": {
      "text/plain": "Validation: 0it [00:00, ?it/s]",
      "application/vnd.jupyter.widget-view+json": {
       "version_major": 2,
       "version_minor": 0,
       "model_id": "2e2082678cc842409e1a48ce3d2484d6"
      }
     },
     "metadata": {},
     "output_type": "display_data"
    },
    {
     "data": {
      "text/plain": "Validation: 0it [00:00, ?it/s]",
      "application/vnd.jupyter.widget-view+json": {
       "version_major": 2,
       "version_minor": 0,
       "model_id": "baff39fd32064fbf8f2d6aa25b8ea748"
      }
     },
     "metadata": {},
     "output_type": "display_data"
    },
    {
     "data": {
      "text/plain": "Validation: 0it [00:00, ?it/s]",
      "application/vnd.jupyter.widget-view+json": {
       "version_major": 2,
       "version_minor": 0,
       "model_id": "d0dc8d32b3064efca77ba1a7fd715b04"
      }
     },
     "metadata": {},
     "output_type": "display_data"
    },
    {
     "data": {
      "text/plain": "Validation: 0it [00:00, ?it/s]",
      "application/vnd.jupyter.widget-view+json": {
       "version_major": 2,
       "version_minor": 0,
       "model_id": "3920c534f2074bba9be09fa2cf1d4974"
      }
     },
     "metadata": {},
     "output_type": "display_data"
    },
    {
     "data": {
      "text/plain": "Validation: 0it [00:00, ?it/s]",
      "application/vnd.jupyter.widget-view+json": {
       "version_major": 2,
       "version_minor": 0,
       "model_id": "99ef29ac74f14ea38ce0a148d4016e71"
      }
     },
     "metadata": {},
     "output_type": "display_data"
    },
    {
     "data": {
      "text/plain": "Validation: 0it [00:00, ?it/s]",
      "application/vnd.jupyter.widget-view+json": {
       "version_major": 2,
       "version_minor": 0,
       "model_id": "509340319ff24076a1d73c00e7bf0c00"
      }
     },
     "metadata": {},
     "output_type": "display_data"
    },
    {
     "data": {
      "text/plain": "Validation: 0it [00:00, ?it/s]",
      "application/vnd.jupyter.widget-view+json": {
       "version_major": 2,
       "version_minor": 0,
       "model_id": "3dd59bccb8764754b65a325be4d2d736"
      }
     },
     "metadata": {},
     "output_type": "display_data"
    },
    {
     "data": {
      "text/plain": "Validation: 0it [00:00, ?it/s]",
      "application/vnd.jupyter.widget-view+json": {
       "version_major": 2,
       "version_minor": 0,
       "model_id": "5b6f7ef636474702ae0573ca93dff04f"
      }
     },
     "metadata": {},
     "output_type": "display_data"
    },
    {
     "data": {
      "text/plain": "Validation: 0it [00:00, ?it/s]",
      "application/vnd.jupyter.widget-view+json": {
       "version_major": 2,
       "version_minor": 0,
       "model_id": "00141dcb33714f91badb0c1b98ff85c7"
      }
     },
     "metadata": {},
     "output_type": "display_data"
    },
    {
     "data": {
      "text/plain": "Validation: 0it [00:00, ?it/s]",
      "application/vnd.jupyter.widget-view+json": {
       "version_major": 2,
       "version_minor": 0,
       "model_id": "03bc3e88cf5c44ce965ae253101591da"
      }
     },
     "metadata": {},
     "output_type": "display_data"
    },
    {
     "data": {
      "text/plain": "Validation: 0it [00:00, ?it/s]",
      "application/vnd.jupyter.widget-view+json": {
       "version_major": 2,
       "version_minor": 0,
       "model_id": "33e31bbd53c048be8ab65aed60fbac66"
      }
     },
     "metadata": {},
     "output_type": "display_data"
    },
    {
     "data": {
      "text/plain": "Validation: 0it [00:00, ?it/s]",
      "application/vnd.jupyter.widget-view+json": {
       "version_major": 2,
       "version_minor": 0,
       "model_id": "8aec6f898e6d407e86ad3e63f382b244"
      }
     },
     "metadata": {},
     "output_type": "display_data"
    },
    {
     "data": {
      "text/plain": "Validation: 0it [00:00, ?it/s]",
      "application/vnd.jupyter.widget-view+json": {
       "version_major": 2,
       "version_minor": 0,
       "model_id": "15a434cbcd294616bf5e210619d15fc5"
      }
     },
     "metadata": {},
     "output_type": "display_data"
    },
    {
     "data": {
      "text/plain": "Validation: 0it [00:00, ?it/s]",
      "application/vnd.jupyter.widget-view+json": {
       "version_major": 2,
       "version_minor": 0,
       "model_id": "868d7d9ab6c54ecca73ce225583c7e3d"
      }
     },
     "metadata": {},
     "output_type": "display_data"
    },
    {
     "data": {
      "text/plain": "Validation: 0it [00:00, ?it/s]",
      "application/vnd.jupyter.widget-view+json": {
       "version_major": 2,
       "version_minor": 0,
       "model_id": "be79c59009bc490eb600ce8f3117562b"
      }
     },
     "metadata": {},
     "output_type": "display_data"
    },
    {
     "data": {
      "text/plain": "Validation: 0it [00:00, ?it/s]",
      "application/vnd.jupyter.widget-view+json": {
       "version_major": 2,
       "version_minor": 0,
       "model_id": "350bd04e5e144404b2b4bdd029f0c48d"
      }
     },
     "metadata": {},
     "output_type": "display_data"
    },
    {
     "data": {
      "text/plain": "Validation: 0it [00:00, ?it/s]",
      "application/vnd.jupyter.widget-view+json": {
       "version_major": 2,
       "version_minor": 0,
       "model_id": "f845eda3e3cc4f68acf5f2fcc4de8985"
      }
     },
     "metadata": {},
     "output_type": "display_data"
    },
    {
     "data": {
      "text/plain": "Validation: 0it [00:00, ?it/s]",
      "application/vnd.jupyter.widget-view+json": {
       "version_major": 2,
       "version_minor": 0,
       "model_id": "fc5379dd934941728b9e1b554ee5bb97"
      }
     },
     "metadata": {},
     "output_type": "display_data"
    },
    {
     "name": "stderr",
     "output_type": "stream",
     "text": [
      "`Trainer.fit` stopped: `max_epochs=30` reached.\n",
      "LOCAL_RANK: 0 - CUDA_VISIBLE_DEVICES: [0]\n"
     ]
    },
    {
     "data": {
      "text/plain": "Testing: 0it [00:00, ?it/s]",
      "application/vnd.jupyter.widget-view+json": {
       "version_major": 2,
       "version_minor": 0,
       "model_id": "7441d2db504b4107a3f1db6579c9f33d"
      }
     },
     "metadata": {},
     "output_type": "display_data"
    },
    {
     "name": "stderr",
     "output_type": "stream",
     "text": [
      "LOCAL_RANK: 0 - CUDA_VISIBLE_DEVICES: [0]\n"
     ]
    },
    {
     "data": {
      "text/plain": "Testing: 0it [00:00, ?it/s]",
      "application/vnd.jupyter.widget-view+json": {
       "version_major": 2,
       "version_minor": 0,
       "model_id": "3954b53f4a63455ba0a2426a9e3b3860"
      }
     },
     "metadata": {},
     "output_type": "display_data"
    },
    {
     "name": "stdout",
     "output_type": "stream",
     "text": [
      "{'test': 0.6511016488075256, 'val': 0.707446813583374}\n"
     ]
    }
   ],
   "source": [
    "finetune_args = {\n",
    "  \"MODEL_TYPE\": \"SupervisedModel\",\n",
    "  \"save_name\": \"finetuned_simclr\",\n",
    "  \"DATA_PATH\": data_args['DATA_PATH'],\n",
    "  \"CHECKPOINT_PATH\": \"checkpoints\",\n",
    "\n",
    "  \"encoder\": \"CNN_head\",\n",
    "  \"encoder_hparams\": {\n",
    "    \"conv_filters\": [32, 64, 64],\n",
    "    \"representation_dim\": 100\n",
    "  },\n",
    "\n",
    "  \"classifier\": \"logistic\",\n",
    "  \"classifier_hparams\":{\n",
    "      \"input_dim\": 100\n",
    "  },\n",
    "  \"data_hparams\": data_args,\n",
    "\n",
    "  \"trainer_hparams\":{\n",
    "    \"max_epochs\": 30\n",
    "  },\n",
    "  \"optim_hparams\": {\n",
    "    \"lr\": 1e-5,\n",
    "    \"weight_decay\": 5e-4\n",
    "  }\n",
    "}\n",
    "pretrained_encoder = type(pretrained_model.f)(**finetune_args['encoder_hparams'])\n",
    "pretrained_encoder.load_state_dict(pretrained_model.f.state_dict())\n",
    "fine_tuned_model, fine_tuned_res = train_supervised(Namespace(**finetune_args), device, dm=dm, pretrained_encoder=pretrained_encoder)\n",
    "print(fine_tuned_res"
   ],
   "metadata": {
    "collapsed": false
   }
  },
  {
   "cell_type": "markdown",
   "source": [],
   "metadata": {
    "collapsed": false
   }
  },
  {
   "cell_type": "markdown",
   "source": [],
   "metadata": {
    "collapsed": false
   }
  },
  {
   "cell_type": "code",
   "execution_count": 17,
   "outputs": [
    {
     "data": {
      "text/plain": "[Parameter containing:\n tensor([[[-0.0618,  0.1018,  0.3921]],\n \n         [[ 0.3342, -0.2160,  0.2837]],\n \n         [[-0.5094, -0.3805,  0.3898]],\n \n         [[-0.4753,  0.5017,  0.2955]],\n \n         [[ 0.1219, -0.2181,  0.3785]],\n \n         [[ 0.0081, -0.3483,  0.0327]],\n \n         [[-0.4251,  0.0202, -0.0413]],\n \n         [[-0.0915, -0.2661, -0.5534]],\n \n         [[-0.1167, -0.3266, -0.0709]],\n \n         [[ 0.4587,  0.3592,  0.4250]],\n \n         [[ 0.2044, -0.1736,  0.0798]],\n \n         [[ 0.2287,  0.3876,  0.1574]],\n \n         [[-0.2506,  0.4226, -0.2369]],\n \n         [[-0.2224,  0.0278, -0.2675]],\n \n         [[ 0.3853,  0.0382, -0.5315]],\n \n         [[ 0.3164, -0.4914, -0.0316]],\n \n         [[-0.3309, -0.0431, -0.4434]],\n \n         [[ 0.0221,  0.3741, -0.3568]],\n \n         [[-0.1419,  0.1736, -0.1830]],\n \n         [[-0.1650,  0.0924,  0.5956]],\n \n         [[-0.4629,  0.1117, -0.4572]],\n \n         [[-0.3489, -0.0095,  0.5174]],\n \n         [[-0.2261, -0.0417, -0.2169]],\n \n         [[-0.0976,  0.0481,  0.2300]],\n \n         [[-0.2354,  0.2103, -0.1341]],\n \n         [[-0.0356, -0.3241, -0.4430]],\n \n         [[-0.4427, -0.1212, -0.4005]],\n \n         [[ 0.5284,  0.2500, -0.4588]],\n \n         [[-0.5679, -0.4028, -0.4853]],\n \n         [[-0.5070, -0.0999,  0.4870]],\n \n         [[ 0.5474, -0.0832, -0.2136]],\n \n         [[ 0.2300,  0.1485,  0.2426]]], requires_grad=True),\n Parameter containing:\n tensor([0.9761, 1.0374, 0.9920, 1.0091, 0.9919, 0.9936, 1.0179, 1.0086, 1.0045,\n         1.0198, 0.9792, 1.0200, 0.9748, 0.9881, 0.9808, 0.9918, 0.9936, 0.9686,\n         0.9819, 1.0037, 1.0046, 0.9896, 1.0028, 0.9849, 0.9748, 0.9824, 1.0113,\n         0.9840, 0.9933, 0.9962, 0.9530, 1.0302], requires_grad=True),\n Parameter containing:\n tensor([ 1.2662e-01,  4.0565e-05,  1.3235e-01,  1.8467e-01, -3.6608e-03,\n          1.0442e-01,  1.7188e-01,  1.4435e-01,  1.2315e-01,  1.5859e-01,\n          1.6880e-01,  6.6513e-02,  2.8791e-01, -4.1803e-06,  1.1202e-01,\n          1.3547e-01, -4.1195e-03,  2.5128e-01,  1.0350e-01, -5.4696e-02,\n          6.4289e-04,  2.0242e-01, -2.3982e-03,  8.9420e-02,  1.4113e-01,\n          9.3194e-02, -2.8883e-03,  1.3308e-01,  2.6305e-03,  6.6115e-02,\n          8.4684e-02, -6.6850e-04], requires_grad=True),\n Parameter containing:\n tensor([[[ 0.0585,  0.0102, -0.0757],\n          [-0.0914,  0.0090,  0.0193],\n          [-0.0694,  0.1276, -0.0200],\n          ...,\n          [ 0.0431, -0.0475,  0.0409],\n          [ 0.0248, -0.0347, -0.0183],\n          [-0.0016, -0.0885, -0.0936]],\n \n         [[ 0.0291, -0.0310,  0.0207],\n          [ 0.0921, -0.0386,  0.1361],\n          [ 0.1058,  0.0460,  0.0023],\n          ...,\n          [ 0.0247, -0.0096,  0.0016],\n          [ 0.0209, -0.0005,  0.0486],\n          [ 0.0777,  0.0304,  0.0900]],\n \n         [[-0.0712,  0.0705,  0.0851],\n          [ 0.0575,  0.0420,  0.0257],\n          [-0.0659, -0.0423, -0.0610],\n          ...,\n          [ 0.0345, -0.0891,  0.0200],\n          [-0.0464,  0.0774, -0.0077],\n          [-0.0446,  0.0537, -0.0662]],\n \n         ...,\n \n         [[-0.0080, -0.0210,  0.0358],\n          [-0.0098,  0.0561, -0.1222],\n          [-0.0659,  0.1117, -0.0648],\n          ...,\n          [ 0.0848, -0.0250, -0.0114],\n          [-0.0200,  0.0381,  0.0852],\n          [-0.0809,  0.0586, -0.1189]],\n \n         [[ 0.0861,  0.0172,  0.0947],\n          [-0.0142, -0.0871,  0.0909],\n          [ 0.0668, -0.0187,  0.0328],\n          ...,\n          [-0.0486, -0.0316,  0.0896],\n          [-0.0655,  0.0724,  0.0488],\n          [-0.0963, -0.0747, -0.0543]],\n \n         [[-0.0024,  0.0416,  0.0525],\n          [ 0.0152, -0.1197, -0.0790],\n          [-0.0095,  0.0360,  0.0231],\n          ...,\n          [-0.0629, -0.0208,  0.0362],\n          [ 0.0204, -0.0189, -0.0293],\n          [-0.0792,  0.0029, -0.0208]]], requires_grad=True),\n Parameter containing:\n tensor([0.9831, 0.9360, 1.0076, 0.9835, 0.9746, 1.0123, 0.9970, 1.0428, 0.9637,\n         0.9721, 0.9488, 0.9741, 1.0219, 0.9913, 1.0429, 1.0385, 1.0566, 1.0159,\n         1.0522, 0.9408, 0.9910, 0.9758, 0.9827, 0.9888, 0.9686, 1.0392, 1.0171,\n         1.0373, 0.9965, 0.9568, 1.0209, 0.9845, 0.9950, 0.9837, 1.0195, 0.9624,\n         0.9658, 1.0285, 0.9884, 0.9654, 1.0239, 0.9886, 1.0192, 0.9782, 1.1123,\n         1.0040, 1.0194, 1.0462, 0.9650, 1.0640, 0.9861, 0.9623, 0.9781, 0.9720,\n         1.0268, 1.0963, 1.0365, 1.0277, 0.9542, 0.9847, 1.0463, 1.0364, 0.9983,\n         1.1314], requires_grad=True),\n Parameter containing:\n tensor([-0.0535,  0.0345, -0.0795,  0.0204, -0.0220, -0.1494, -0.1750, -0.0143,\n         -0.1308,  0.0365,  0.0082, -0.0342, -0.1073, -0.0542, -0.0061,  0.0045,\n         -0.1526, -0.0187, -0.0819,  0.0013, -0.0611, -0.0753, -0.0215, -0.1358,\n          0.0103, -0.0543, -0.0508,  0.0203,  0.0070, -0.1164, -0.0232, -0.0575,\n         -0.1011, -0.0410, -0.1364, -0.0230, -0.1538, -0.0383, -0.1674,  0.0321,\n         -0.0518, -0.0356, -0.0945, -0.1111, -0.0444, -0.0385, -0.0201, -0.0458,\n          0.0595, -0.0908, -0.1519,  0.0082, -0.0709,  0.0120, -0.1026, -0.0179,\n         -0.1128, -0.0703, -0.0395, -0.1067, -0.1411, -0.0998, -0.0416, -0.1116],\n        requires_grad=True),\n Parameter containing:\n tensor([[[ 0.0521, -0.0180, -0.0379],\n          [ 0.0352,  0.0416,  0.0307],\n          [-0.0301,  0.0479, -0.0490],\n          ...,\n          [ 0.0098,  0.0798, -0.0478],\n          [ 0.0517,  0.0353,  0.0473],\n          [ 0.0307,  0.0621,  0.0087]],\n \n         [[ 0.0567, -0.0019,  0.0219],\n          [-0.0219, -0.0574,  0.0365],\n          [ 0.0068,  0.0490,  0.0958],\n          ...,\n          [-0.0111,  0.0005, -0.0428],\n          [ 0.0162,  0.0695, -0.0227],\n          [ 0.0169,  0.0845,  0.0229]],\n \n         [[ 0.0524,  0.0493,  0.0218],\n          [ 0.0438,  0.0188,  0.0569],\n          [-0.0049, -0.0308,  0.0652],\n          ...,\n          [ 0.0222, -0.0490,  0.0353],\n          [ 0.0669,  0.0082, -0.0404],\n          [ 0.1022,  0.0452,  0.0479]],\n \n         ...,\n \n         [[ 0.0107,  0.0027, -0.0059],\n          [-0.0473,  0.0386, -0.0742],\n          [-0.0492,  0.0247, -0.0301],\n          ...,\n          [ 0.0395, -0.0307, -0.0389],\n          [ 0.0149, -0.0106,  0.0083],\n          [ 0.0670, -0.0312,  0.0561]],\n \n         [[-0.0566,  0.0275,  0.0808],\n          [ 0.0397,  0.0491, -0.0206],\n          [ 0.0375, -0.0541, -0.0314],\n          ...,\n          [-0.0732, -0.0581,  0.0384],\n          [ 0.0508, -0.0029, -0.0509],\n          [-0.0361,  0.0316,  0.0031]],\n \n         [[-0.0026,  0.0397, -0.0570],\n          [ 0.0259, -0.0220, -0.0286],\n          [ 0.0332,  0.0115, -0.0641],\n          ...,\n          [ 0.0089, -0.0485,  0.0003],\n          [ 0.0220,  0.0344,  0.0343],\n          [ 0.0047, -0.0487, -0.0547]]], requires_grad=True),\n Parameter containing:\n tensor([0.9638, 0.9092, 0.9259, 0.9861, 1.0478, 1.0134, 1.0017, 1.0519, 1.0149,\n         0.9473, 0.9267, 1.0245, 1.1454, 1.0117, 1.0276, 0.9823, 0.9795, 0.9497,\n         1.0160, 0.9568, 0.9703, 0.9384, 0.9637, 0.9877, 0.9679, 0.9652, 1.0110,\n         0.9557, 1.0192, 0.9189, 0.9532, 1.0107, 0.9436, 0.9176, 0.9390, 1.0525,\n         1.0558, 0.9096, 0.9401, 0.9846, 0.9912, 0.9587, 1.0398, 0.8923, 0.9160,\n         1.0098, 0.9759, 0.9941, 0.9872, 1.0191, 0.9254, 0.9377, 1.0371, 0.9756,\n         0.9936, 0.9553, 0.9031, 0.8945, 1.0360, 0.9448, 1.0087, 0.9932, 0.9577,\n         0.9449], requires_grad=True),\n Parameter containing:\n tensor([-0.0645, -0.0696, -0.1746, -0.1273, -0.1671, -0.2018, -0.1884, -0.1228,\n         -0.1931, -0.0073, -0.1100, -0.0643, -0.0018, -0.1303, -0.0330, -0.0636,\n         -0.0208,  0.0116, -0.1492, -0.0613, -0.1425, -0.0462, -0.0570, -0.1026,\n         -0.0704, -0.0609, -0.0388, -0.0785, -0.0405, -0.0425,  0.0298, -0.0736,\n         -0.1043, -0.1278, -0.1264, -0.0335, -0.1697, -0.1763, -0.0734,  0.0292,\n         -0.0778, -0.0615, -0.0076, -0.1474, -0.0687, -0.0756, -0.1683, -0.0652,\n         -0.0098, -0.1304, -0.1022, -0.1106, -0.0384, -0.0802, -0.0924, -0.1152,\n         -0.0866, -0.1136, -0.0447, -0.0168, -0.0648, -0.0765, -0.0846, -0.0537],\n        requires_grad=True),\n Parameter containing:\n tensor([[ 0.0037,  0.0209,  0.0156,  ...,  0.0057,  0.0153,  0.0263],\n         [ 0.0573, -0.0267, -0.0111,  ..., -0.0256, -0.0235, -0.0157],\n         [-0.0927, -0.0533, -0.0263,  ...,  0.0040,  0.0219,  0.0138],\n         ...,\n         [-0.0068,  0.0006,  0.0079,  ..., -0.0048, -0.0013, -0.0041],\n         [ 0.1071,  0.0289,  0.0224,  ..., -0.0160, -0.0173, -0.0079],\n         [ 0.0176, -0.0252, -0.0125,  ..., -0.0097, -0.0100, -0.0141]],\n        requires_grad=True),\n Parameter containing:\n tensor([-0.0049,  0.0069, -0.0032, -0.0126,  0.0011, -0.0023, -0.0055, -0.0079,\n         -0.0059,  0.0027,  0.0063, -0.0009, -0.0048, -0.0044,  0.0066,  0.0024,\n          0.0148,  0.0040, -0.0012,  0.0009, -0.0031,  0.0017, -0.0136, -0.0005,\n         -0.0031, -0.0108, -0.0073,  0.0013, -0.0094, -0.0087,  0.0115,  0.0082,\n          0.0168,  0.0029,  0.0017, -0.0121,  0.0066,  0.0066,  0.0189,  0.0025,\n         -0.0074, -0.0162,  0.0127,  0.0013, -0.0102,  0.0002,  0.0059, -0.0034,\n         -0.0026,  0.0018, -0.0276, -0.0067,  0.0019,  0.0052, -0.0130, -0.0097,\n          0.0017, -0.0065, -0.0062, -0.0047, -0.0023, -0.0015,  0.0180, -0.0017,\n         -0.0023,  0.0105, -0.0100, -0.0112, -0.0123, -0.0024, -0.0074, -0.0022,\n          0.0054,  0.0063,  0.0212, -0.0029, -0.0075, -0.0042,  0.0105,  0.0075,\n         -0.0030, -0.0018, -0.0151, -0.0083,  0.0018, -0.0191, -0.0144,  0.0136,\n          0.0133,  0.0114,  0.0019,  0.0030,  0.0008,  0.0018,  0.0022,  0.0058,\n          0.0082, -0.0016, -0.0110, -0.0015], requires_grad=True),\n Parameter containing:\n tensor([[ 0.0801,  0.0729, -0.0435, -0.0262,  0.0338, -0.0853,  0.0107,  0.0285,\n           0.0951, -0.0124,  0.0938,  0.1018, -0.0496,  0.0171,  0.0542, -0.0140,\n          -0.0532,  0.0211,  0.0446, -0.0808, -0.0865, -0.0743, -0.0735,  0.0903,\n          -0.0411, -0.0114, -0.0238, -0.0507,  0.0839, -0.0370,  0.0565, -0.0486,\n           0.0970,  0.0231, -0.0252,  0.0044,  0.0375, -0.0551, -0.0335, -0.0767,\n          -0.0667,  0.0495, -0.0066, -0.0531,  0.0071,  0.0573,  0.0917, -0.0573,\n           0.0409,  0.0136, -0.0477,  0.0210,  0.0080,  0.0578,  0.0804,  0.0470,\n           0.0178, -0.0729, -0.0820,  0.0444, -0.0586, -0.0010,  0.0748,  0.0485,\n          -0.0141,  0.0112,  0.0021,  0.0057,  0.0820, -0.0607,  0.0878,  0.0055,\n           0.0894, -0.0430,  0.0680, -0.0575, -0.0837,  0.0741,  0.0318,  0.0991,\n           0.0400, -0.0442, -0.0611,  0.0848, -0.0176, -0.0601, -0.0744, -0.0611,\n          -0.0413, -0.0802,  0.0948,  0.0098,  0.0316, -0.0538,  0.0087,  0.0683,\n          -0.0344,  0.0771, -0.0312, -0.0362],\n         [-0.0757, -0.1039,  0.0417, -0.0636, -0.0551, -0.0391, -0.0781, -0.0797,\n          -0.0710,  0.0982,  0.0089, -0.0370, -0.0139,  0.0882, -0.0544,  0.0467,\n          -0.0169, -0.0831,  0.0633,  0.0473,  0.0770,  0.0471,  0.0150,  0.0295,\n          -0.0717,  0.0969, -0.0629,  0.0684, -0.0659, -0.0741,  0.0443,  0.0647,\n          -0.0209,  0.0301, -0.0785, -0.0125,  0.0942,  0.0901, -0.0292,  0.0421,\n           0.0926,  0.0350,  0.0216, -0.0769,  0.0309,  0.0272, -0.0541,  0.0495,\n          -0.0670,  0.0898, -0.0082,  0.0658, -0.0218, -0.0468,  0.0687,  0.0590,\n           0.0998,  0.0316, -0.0433, -0.0593, -0.0970,  0.0097,  0.0954, -0.0378,\n          -0.0207,  0.0710,  0.0883,  0.0293,  0.0132,  0.0970,  0.0850, -0.0646,\n          -0.0651, -0.0224,  0.0408, -0.0569, -0.0387,  0.0103, -0.0219,  0.0686,\n           0.0621,  0.0680,  0.0525, -0.0564, -0.0818, -0.0721, -0.0161,  0.0772,\n          -0.0250,  0.0932,  0.0739, -0.0964,  0.0404, -0.0437, -0.0966,  0.0360,\n          -0.0354, -0.0848, -0.0689,  0.0694],\n         [-0.0248,  0.0836, -0.0343,  0.0929, -0.0242,  0.0915,  0.0402, -0.0717,\n           0.0444,  0.0416, -0.0829, -0.0888,  0.0069,  0.0528,  0.0850, -0.0255,\n          -0.0956,  0.0434,  0.0117,  0.0025,  0.0609,  0.0106,  0.0869,  0.0774,\n           0.0240,  0.0757,  0.0301, -0.0919,  0.0900,  0.0094, -0.0058,  0.0829,\n           0.0836, -0.0799,  0.0340, -0.0518, -0.0283,  0.0242, -0.0332, -0.0432,\n           0.0448, -0.0228,  0.0361,  0.0938,  0.0209,  0.0237,  0.0851, -0.0379,\n           0.0006, -0.0959, -0.0437, -0.0037,  0.0899,  0.0526, -0.0154, -0.0239,\n           0.0265, -0.0429, -0.0150,  0.0277, -0.0283,  0.0694,  0.0414, -0.0067,\n          -0.0156,  0.0140,  0.0528,  0.0292, -0.0255,  0.0357, -0.0062, -0.0742,\n          -0.0733,  0.0012,  0.0839, -0.0381,  0.0635, -0.0271,  0.0597, -0.0279,\n          -0.0444,  0.0308,  0.0498, -0.0753, -0.0056,  0.0239,  0.0220,  0.0949,\n          -0.0864,  0.0866,  0.0534, -0.0933, -0.0320,  0.0368, -0.0778,  0.0935,\n          -0.0354,  0.0405,  0.0195, -0.0366],\n         [-0.0928,  0.0142, -0.0787, -0.0131,  0.0192, -0.0309,  0.0555, -0.0917,\n          -0.0736,  0.0512, -0.0522,  0.0758, -0.0187, -0.0200,  0.0914, -0.0084,\n          -0.0832, -0.0394,  0.0291,  0.0695,  0.0914, -0.0384,  0.0069,  0.0717,\n          -0.0463,  0.0065, -0.0492,  0.0150,  0.0997,  0.0820, -0.0692,  0.0516,\n           0.0929, -0.0167,  0.0425, -0.0930,  0.0574, -0.0175,  0.0924,  0.0716,\n          -0.0511, -0.0443, -0.0799, -0.0875, -0.0913,  0.0454,  0.0657, -0.0647,\n           0.0700, -0.0217,  0.0286,  0.0811,  0.0810, -0.0758,  0.0409, -0.0509,\n          -0.0857, -0.0051, -0.0234,  0.0221,  0.0086,  0.0591,  0.0527, -0.0880,\n          -0.0843, -0.0590,  0.0545,  0.0892, -0.0538,  0.0170,  0.0055,  0.0368,\n           0.0419,  0.0161,  0.0634, -0.0326,  0.0995, -0.0094, -0.0910,  0.0493,\n           0.0738,  0.0678,  0.0185,  0.0308,  0.0319, -0.0417, -0.0088, -0.0021,\n          -0.0547, -0.0407, -0.0370, -0.0142, -0.0698,  0.0596, -0.0094,  0.0756,\n          -0.0650,  0.0319, -0.0328,  0.0520],\n         [-0.0403, -0.0531,  0.0070, -0.0593,  0.0676, -0.0033,  0.0600, -0.0344,\n          -0.0219, -0.0915,  0.0292,  0.0376,  0.0636,  0.0129, -0.0032, -0.0191,\n           0.0428,  0.0966,  0.0030, -0.0881, -0.0866,  0.0400,  0.0885, -0.0553,\n           0.0485,  0.0819,  0.0864,  0.0599, -0.0647,  0.0661,  0.0010, -0.0587,\n          -0.0975, -0.0382,  0.0909,  0.0954,  0.0780, -0.0710,  0.0551,  0.0545,\n           0.0917, -0.0612,  0.0807, -0.0124,  0.0399, -0.0835, -0.0119, -0.0633,\n          -0.0282, -0.0148, -0.0372,  0.0431,  0.0930,  0.0250, -0.0467, -0.0248,\n          -0.0327,  0.0039, -0.0097,  0.0591,  0.0040, -0.0845, -0.0350, -0.0497,\n           0.0314,  0.0883,  0.0804,  0.0271, -0.0654, -0.0031,  0.0166,  0.0046,\n           0.0501,  0.0473, -0.0355, -0.0380,  0.0083,  0.0072,  0.0065, -0.0910,\n          -0.0915,  0.0903,  0.0983, -0.0903, -0.0721, -0.0154, -0.0573, -0.0974,\n           0.0295, -0.0642,  0.0286, -0.0650, -0.0038, -0.0297, -0.0181, -0.0422,\n          -0.0845,  0.0793, -0.0096, -0.0552]], requires_grad=True),\n Parameter containing:\n tensor([ 0.0933,  0.0127, -0.0234,  0.0290, -0.0061], requires_grad=True)]"
     },
     "execution_count": 17,
     "metadata": {},
     "output_type": "execute_result"
    }
   ],
   "source": [
    "list(fine_tuned_model.net.parameters())"
   ],
   "metadata": {
    "collapsed": false
   }
  }
 ],
 "metadata": {
  "kernelspec": {
   "display_name": "Python 3",
   "language": "python",
   "name": "python3"
  },
  "language_info": {
   "codemirror_mode": {
    "name": "ipython",
    "version": 2
   },
   "file_extension": ".py",
   "mimetype": "text/x-python",
   "name": "python",
   "nbconvert_exporter": "python",
   "pygments_lexer": "ipython2",
   "version": "2.7.6"
  }
 },
 "nbformat": 4,
 "nbformat_minor": 0
}
