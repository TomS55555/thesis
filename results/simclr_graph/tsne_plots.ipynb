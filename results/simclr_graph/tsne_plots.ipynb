{
 "cells": [
  {
   "cell_type": "code",
   "execution_count": 7,
   "outputs": [
    {
     "name": "stdout",
     "output_type": "stream",
     "text": [
      "C:\\Users\\tomsm\\PycharmProjects\\thesis\\results\\simclr_graph\n"
     ]
    }
   ],
   "source": [],
   "metadata": {
    "collapsed": false
   }
  },
  {
   "cell_type": "code",
   "execution_count": 13,
   "metadata": {
    "collapsed": true
   },
   "outputs": [],
   "source": [
    "from utils.helper_functions import load_model, prepare_data_features\n",
    "from models.simclr_model import SimCLR\n",
    "from models.supervised_model import SupervisedModel\n",
    "from datasets.SHHS_dataset_timeonly import SHHS_dataset_1\n",
    "import torch.utils.data as data\n",
    "from copy import deepcopy\n",
    "import torch.nn as nn\n",
    "import torch"
   ]
  },
  {
   "cell_type": "code",
   "execution_count": 8,
   "outputs": [
    {
     "name": "stderr",
     "output_type": "stream",
     "text": [
      "C:\\Users\\tomsm\\anaconda3\\lib\\site-packages\\pytorch_lightning\\utilities\\parsing.py:268: UserWarning: Attribute 'encoder' is an instance of `nn.Module` and is already saved during checkpointing. It is recommended to ignore them using `self.save_hyperparameters(ignore=['encoder'])`.\n",
      "  rank_zero_warn(\n",
      "C:\\Users\\tomsm\\anaconda3\\lib\\site-packages\\pytorch_lightning\\utilities\\parsing.py:268: UserWarning: Attribute 'projector' is an instance of `nn.Module` and is already saved during checkpointing. It is recommended to ignore them using `self.save_hyperparameters(ignore=['projector'])`.\n",
      "  rank_zero_warn(\n"
     ]
    }
   ],
   "source": [
    "encoder_path = \"../../trained_models/cnn_simclr_500pat.ckpt\"\n",
    "pretrained_model = load_model(SimCLR, encoder_path)  # Load pretrained simclr model"
   ],
   "metadata": {
    "collapsed": false
   }
  },
  {
   "cell_type": "code",
   "execution_count": 11,
   "outputs": [
    {
     "name": "stdout",
     "output_type": "stream",
     "text": [
      "Couldn't find file at path:  ../../../thesis01/data/n0014_eeg.mat\n"
     ]
    }
   ],
   "source": [
    "test_ds = SHHS_dataset_1(data_path='../../../thesis01/data/',\n",
    "                             first_patient=1,\n",
    "                             num_patients=30)\n",
    "test_dl = data.DataLoader(dataset=test_ds,\n",
    "                              batch_size=64,\n",
    "                              shuffle=False,\n",
    "                              num_workers=12)"
   ],
   "metadata": {
    "collapsed": false
   }
  },
  {
   "cell_type": "code",
   "execution_count": 16,
   "outputs": [
    {
     "data": {
      "text/plain": "  0%|          | 0/444 [00:00<?, ?it/s]",
      "application/vnd.jupyter.widget-view+json": {
       "version_major": 2,
       "version_minor": 0,
       "model_id": "ac4929ef3da84ff292eb400409006e60"
      }
     },
     "metadata": {},
     "output_type": "display_data"
    }
   ],
   "source": [
    "device = 'cpu'\n",
    "test_ds = prepare_data_features(model=pretrained_model,\n",
    "                                             data_loader=test_dl,\n",
    "                                             device=device)\n",
    "\n",
    "test_dl = data.DataLoader(dataset=test_ds,\n",
    "                                   batch_size=64,\n",
    "                                   shuffle=False,\n",
    "                                   num_workers=12)"
   ],
   "metadata": {
    "collapsed": false
   }
  },
  {
   "cell_type": "code",
   "execution_count": 15,
   "outputs": [
    {
     "ename": "RuntimeError",
     "evalue": "Error(s) in loading state_dict for SupervisedModel:\n\tMissing key(s) in state_dict: \"encoder.model.0.net.0.weight\", \"encoder.model.0.net.1.weight\", \"encoder.model.0.net.1.bias\", \"encoder.model.0.net.1.running_mean\", \"encoder.model.0.net.1.running_var\", \"encoder.model.1.net.0.weight\", \"encoder.model.1.net.1.weight\", \"encoder.model.1.net.1.bias\", \"encoder.model.1.net.1.running_mean\", \"encoder.model.1.net.1.running_var\", \"encoder.model.2.net.0.weight\", \"encoder.model.2.net.1.weight\", \"encoder.model.2.net.1.bias\", \"encoder.model.2.net.1.running_mean\", \"encoder.model.2.net.1.running_var\", \"encoder.model.4.weight\", \"encoder.model.4.bias\", \"classifier.weight\", \"classifier.bias\". ",
     "output_type": "error",
     "traceback": [
      "\u001B[1;31m---------------------------------------------------------------------------\u001B[0m",
      "\u001B[1;31mRuntimeError\u001B[0m                              Traceback (most recent call last)",
      "Input \u001B[1;32mIn [15]\u001B[0m, in \u001B[0;36m<cell line: 2>\u001B[1;34m()\u001B[0m\n\u001B[0;32m      1\u001B[0m ckpt_path \u001B[38;5;241m=\u001B[39m \u001B[38;5;124m\"\u001B[39m\u001B[38;5;124m../checkpoints/supervised_simclr/lightning_logs/version_0/checkpoints/epoch=2-step=429.ckpt\u001B[39m\u001B[38;5;124m\"\u001B[39m\n\u001B[1;32m----> 2\u001B[0m sup_model \u001B[38;5;241m=\u001B[39m \u001B[43mload_model\u001B[49m\u001B[43m(\u001B[49m\u001B[43mSupervisedModel\u001B[49m\u001B[43m,\u001B[49m\u001B[43m \u001B[49m\u001B[43mckpt_path\u001B[49m\u001B[43m)\u001B[49m\n\u001B[0;32m      3\u001B[0m sup_model\n",
      "File \u001B[1;32m~\\PycharmProjects\\thesis\\utils\\helper_functions.py:60\u001B[0m, in \u001B[0;36mload_model\u001B[1;34m(model_type, checkpoint_path)\u001B[0m\n\u001B[0;32m     58\u001B[0m \u001B[38;5;28;01mdef\u001B[39;00m \u001B[38;5;21mload_model\u001B[39m(model_type, checkpoint_path):\n\u001B[0;32m     59\u001B[0m     \u001B[38;5;28;01mif\u001B[39;00m os\u001B[38;5;241m.\u001B[39mpath\u001B[38;5;241m.\u001B[39misfile(checkpoint_path):\n\u001B[1;32m---> 60\u001B[0m         model \u001B[38;5;241m=\u001B[39m \u001B[43mmodel_type\u001B[49m\u001B[38;5;241;43m.\u001B[39;49m\u001B[43mload_from_checkpoint\u001B[49m\u001B[43m(\u001B[49m\n\u001B[0;32m     61\u001B[0m \u001B[43m            \u001B[49m\u001B[43mcheckpoint_path\u001B[49m\u001B[43m)\u001B[49m  \u001B[38;5;66;03m# Automatically loads the model with the saved hyperparameters\u001B[39;00m\n\u001B[0;32m     62\u001B[0m     \u001B[38;5;28;01melse\u001B[39;00m:\n\u001B[0;32m     63\u001B[0m         \u001B[38;5;28mprint\u001B[39m(\u001B[38;5;124m\"\u001B[39m\u001B[38;5;124mModel at location \u001B[39m\u001B[38;5;124m\"\u001B[39m, checkpoint_path, \u001B[38;5;124m\"\u001B[39m\u001B[38;5;124m not found!\u001B[39m\u001B[38;5;124m\"\u001B[39m)\n",
      "File \u001B[1;32m~\\anaconda3\\lib\\site-packages\\pytorch_lightning\\core\\saving.py:137\u001B[0m, in \u001B[0;36mModelIO.load_from_checkpoint\u001B[1;34m(cls, checkpoint_path, map_location, hparams_file, strict, **kwargs)\u001B[0m\n\u001B[0;32m     57\u001B[0m \u001B[38;5;129m@classmethod\u001B[39m\n\u001B[0;32m     58\u001B[0m \u001B[38;5;28;01mdef\u001B[39;00m \u001B[38;5;21mload_from_checkpoint\u001B[39m(\n\u001B[0;32m     59\u001B[0m     \u001B[38;5;28mcls\u001B[39m,\n\u001B[1;32m   (...)\u001B[0m\n\u001B[0;32m     64\u001B[0m     \u001B[38;5;241m*\u001B[39m\u001B[38;5;241m*\u001B[39mkwargs,\n\u001B[0;32m     65\u001B[0m ):\n\u001B[0;32m     66\u001B[0m     \u001B[38;5;124mr\u001B[39m\u001B[38;5;124;03m\"\"\"\u001B[39;00m\n\u001B[0;32m     67\u001B[0m \u001B[38;5;124;03m    Primary way of loading a model from a checkpoint. When Lightning saves a checkpoint\u001B[39;00m\n\u001B[0;32m     68\u001B[0m \u001B[38;5;124;03m    it stores the arguments passed to ``__init__``  in the checkpoint under ``\"hyper_parameters\"``.\u001B[39;00m\n\u001B[1;32m   (...)\u001B[0m\n\u001B[0;32m    135\u001B[0m \u001B[38;5;124;03m        y_hat = pretrained_model(x)\u001B[39;00m\n\u001B[0;32m    136\u001B[0m \u001B[38;5;124;03m    \"\"\"\u001B[39;00m\n\u001B[1;32m--> 137\u001B[0m     \u001B[38;5;28;01mreturn\u001B[39;00m _load_from_checkpoint(\n\u001B[0;32m    138\u001B[0m         \u001B[38;5;28mcls\u001B[39m,\n\u001B[0;32m    139\u001B[0m         checkpoint_path,\n\u001B[0;32m    140\u001B[0m         map_location,\n\u001B[0;32m    141\u001B[0m         hparams_file,\n\u001B[0;32m    142\u001B[0m         strict,\n\u001B[0;32m    143\u001B[0m         \u001B[38;5;241m*\u001B[39m\u001B[38;5;241m*\u001B[39mkwargs,\n\u001B[0;32m    144\u001B[0m     )\n",
      "File \u001B[1;32m~\\anaconda3\\lib\\site-packages\\pytorch_lightning\\core\\saving.py:205\u001B[0m, in \u001B[0;36m_load_from_checkpoint\u001B[1;34m(cls, checkpoint_path, map_location, hparams_file, strict, **kwargs)\u001B[0m\n\u001B[0;32m    203\u001B[0m \u001B[38;5;28;01mif\u001B[39;00m \u001B[38;5;28missubclass\u001B[39m(\u001B[38;5;28mcls\u001B[39m, pl\u001B[38;5;241m.\u001B[39mLightningDataModule):\n\u001B[0;32m    204\u001B[0m     \u001B[38;5;28;01mreturn\u001B[39;00m _load_state(\u001B[38;5;28mcls\u001B[39m, checkpoint, \u001B[38;5;241m*\u001B[39m\u001B[38;5;241m*\u001B[39mkwargs)\n\u001B[1;32m--> 205\u001B[0m \u001B[38;5;28;01mreturn\u001B[39;00m _load_state(\u001B[38;5;28mcls\u001B[39m, checkpoint, strict\u001B[38;5;241m=\u001B[39mstrict, \u001B[38;5;241m*\u001B[39m\u001B[38;5;241m*\u001B[39mkwargs)\n",
      "File \u001B[1;32m~\\anaconda3\\lib\\site-packages\\pytorch_lightning\\core\\saving.py:259\u001B[0m, in \u001B[0;36m_load_state\u001B[1;34m(cls, checkpoint, strict, **cls_kwargs_new)\u001B[0m\n\u001B[0;32m    256\u001B[0m     \u001B[38;5;28;01mreturn\u001B[39;00m obj\n\u001B[0;32m    258\u001B[0m \u001B[38;5;66;03m# load the state_dict on the model automatically\u001B[39;00m\n\u001B[1;32m--> 259\u001B[0m keys \u001B[38;5;241m=\u001B[39m \u001B[43mobj\u001B[49m\u001B[38;5;241;43m.\u001B[39;49m\u001B[43mload_state_dict\u001B[49m\u001B[43m(\u001B[49m\u001B[43mcheckpoint\u001B[49m\u001B[43m[\u001B[49m\u001B[38;5;124;43m\"\u001B[39;49m\u001B[38;5;124;43mstate_dict\u001B[39;49m\u001B[38;5;124;43m\"\u001B[39;49m\u001B[43m]\u001B[49m\u001B[43m,\u001B[49m\u001B[43m \u001B[49m\u001B[43mstrict\u001B[49m\u001B[38;5;241;43m=\u001B[39;49m\u001B[43mstrict\u001B[49m\u001B[43m)\u001B[49m\n\u001B[0;32m    261\u001B[0m \u001B[38;5;28;01mif\u001B[39;00m \u001B[38;5;129;01mnot\u001B[39;00m strict:\n\u001B[0;32m    262\u001B[0m     \u001B[38;5;28;01mif\u001B[39;00m keys\u001B[38;5;241m.\u001B[39mmissing_keys:\n",
      "File \u001B[1;32m~\\anaconda3\\lib\\site-packages\\torch\\nn\\modules\\module.py:1604\u001B[0m, in \u001B[0;36mModule.load_state_dict\u001B[1;34m(self, state_dict, strict)\u001B[0m\n\u001B[0;32m   1599\u001B[0m         error_msgs\u001B[38;5;241m.\u001B[39minsert(\n\u001B[0;32m   1600\u001B[0m             \u001B[38;5;241m0\u001B[39m, \u001B[38;5;124m'\u001B[39m\u001B[38;5;124mMissing key(s) in state_dict: \u001B[39m\u001B[38;5;132;01m{}\u001B[39;00m\u001B[38;5;124m. \u001B[39m\u001B[38;5;124m'\u001B[39m\u001B[38;5;241m.\u001B[39mformat(\n\u001B[0;32m   1601\u001B[0m                 \u001B[38;5;124m'\u001B[39m\u001B[38;5;124m, \u001B[39m\u001B[38;5;124m'\u001B[39m\u001B[38;5;241m.\u001B[39mjoin(\u001B[38;5;124m'\u001B[39m\u001B[38;5;124m\"\u001B[39m\u001B[38;5;132;01m{}\u001B[39;00m\u001B[38;5;124m\"\u001B[39m\u001B[38;5;124m'\u001B[39m\u001B[38;5;241m.\u001B[39mformat(k) \u001B[38;5;28;01mfor\u001B[39;00m k \u001B[38;5;129;01min\u001B[39;00m missing_keys)))\n\u001B[0;32m   1603\u001B[0m \u001B[38;5;28;01mif\u001B[39;00m \u001B[38;5;28mlen\u001B[39m(error_msgs) \u001B[38;5;241m>\u001B[39m \u001B[38;5;241m0\u001B[39m:\n\u001B[1;32m-> 1604\u001B[0m     \u001B[38;5;28;01mraise\u001B[39;00m \u001B[38;5;167;01mRuntimeError\u001B[39;00m(\u001B[38;5;124m'\u001B[39m\u001B[38;5;124mError(s) in loading state_dict for \u001B[39m\u001B[38;5;132;01m{}\u001B[39;00m\u001B[38;5;124m:\u001B[39m\u001B[38;5;130;01m\\n\u001B[39;00m\u001B[38;5;130;01m\\t\u001B[39;00m\u001B[38;5;132;01m{}\u001B[39;00m\u001B[38;5;124m'\u001B[39m\u001B[38;5;241m.\u001B[39mformat(\n\u001B[0;32m   1605\u001B[0m                        \u001B[38;5;28mself\u001B[39m\u001B[38;5;241m.\u001B[39m\u001B[38;5;18m__class__\u001B[39m\u001B[38;5;241m.\u001B[39m\u001B[38;5;18m__name__\u001B[39m, \u001B[38;5;124m\"\u001B[39m\u001B[38;5;130;01m\\n\u001B[39;00m\u001B[38;5;130;01m\\t\u001B[39;00m\u001B[38;5;124m\"\u001B[39m\u001B[38;5;241m.\u001B[39mjoin(error_msgs)))\n\u001B[0;32m   1606\u001B[0m \u001B[38;5;28;01mreturn\u001B[39;00m _IncompatibleKeys(missing_keys, unexpected_keys)\n",
      "\u001B[1;31mRuntimeError\u001B[0m: Error(s) in loading state_dict for SupervisedModel:\n\tMissing key(s) in state_dict: \"encoder.model.0.net.0.weight\", \"encoder.model.0.net.1.weight\", \"encoder.model.0.net.1.bias\", \"encoder.model.0.net.1.running_mean\", \"encoder.model.0.net.1.running_var\", \"encoder.model.1.net.0.weight\", \"encoder.model.1.net.1.weight\", \"encoder.model.1.net.1.bias\", \"encoder.model.1.net.1.running_mean\", \"encoder.model.1.net.1.running_var\", \"encoder.model.2.net.0.weight\", \"encoder.model.2.net.1.weight\", \"encoder.model.2.net.1.bias\", \"encoder.model.2.net.1.running_mean\", \"encoder.model.2.net.1.running_var\", \"encoder.model.4.weight\", \"encoder.model.4.bias\", \"classifier.weight\", \"classifier.bias\". "
     ]
    }
   ],
   "source": [
    "ckpt_path = \"\"\n",
    "sup_model = load_model(SupervisedModel, ckpt_path)\n",
    "sup_model"
   ],
   "metadata": {
    "collapsed": false
   }
  },
  {
   "cell_type": "code",
   "execution_count": null,
   "outputs": [],
   "source": [
    "network = deepcopy(sup_model.encoder)\n",
    "network.g = nn.Identity()  # Removing projection head g(.)\n",
    "network.eval()\n",
    "network.to(device)\n",
    "\n",
    "# Encode all images\n",
    "feats, labels = [], []\n",
    "for batch_inputs, batch_labels in test_dl:\n",
    "    batch_inputs = batch_inputs.to(device)\n",
    "    batch_feats = network(batch_inputs.squeeze(dim=1))\n",
    "    feats.append(batch_feats.detach().cpu())\n",
    "    labels.append(batch_labels)\n",
    "\n",
    "feats = torch.cat(feats, dim=0)\n",
    "labels = torch.cat(labels, dim=0)\n",
    "\n",
    "test_features_ds = data.TensorDataset(feats, labels)\n",
    "test_features_dl = data.DataLoader(dataset=test_features_ds,\n",
    "                                       batch_size=64,\n",
    "                                       shuffle=False,\n",
    "                                       num_workers=12)"
   ],
   "metadata": {
    "collapsed": false
   }
  },
  {
   "cell_type": "code",
   "execution_count": null,
   "outputs": [],
   "source": [],
   "metadata": {
    "collapsed": false
   }
  }
 ],
 "metadata": {
  "kernelspec": {
   "display_name": "Python 3",
   "language": "python",
   "name": "python3"
  },
  "language_info": {
   "codemirror_mode": {
    "name": "ipython",
    "version": 2
   },
   "file_extension": ".py",
   "mimetype": "text/x-python",
   "name": "python",
   "nbconvert_exporter": "python",
   "pygments_lexer": "ipython2",
   "version": "2.7.6"
  }
 },
 "nbformat": 4,
 "nbformat_minor": 0
}
