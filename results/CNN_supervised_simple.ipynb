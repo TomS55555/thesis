{
 "cells": [
  {
   "cell_type": "code",
   "execution_count": null,
   "metadata": {
    "collapsed": true
   },
   "outputs": [],
   "source": [
    "import os\n",
    "\n",
    "import pytorch_lightning as pl\n",
    "from pytorch_lightning.callbacks import ModelCheckpoint, LearningRateMonitor\n",
    "from tqdm.notebook import tqdm\n",
    "\n",
    "import constants\n",
    "from datasets.SHHS_dataset_timeonly import SHHS_dataset_1, EEGdataModule\n",
    "\n",
    "from models.conv_model_simple import CNNmodel_supervised_simple\n",
    "import torch\n",
    "import torch.utils.data as data\n",
    "from copy import deepcopy\n",
    "import torch.nn as nn\n",
    "import matplotlib.pyplot as plt\n",
    "from utils.load_and_save_model import load_model"
   ]
  },
  {
   "cell_type": "code",
   "execution_count": null,
   "outputs": [],
   "source": [
    "cnn_model_simple = load_model(CNNmodel_supervised_simple, '../trained_models/cnn_model_simple/cnn_model_simple.ckpt')\n",
    "device = torch.device('cpu')\n",
    "ds = SHHS_dataset_1(data_path='../../thesis01/data',\n",
    "                    first_patient=1,\n",
    "                    num_patients=50,\n",
    "                    )\n"
   ],
   "metadata": {
    "collapsed": false
   }
  }
 ],
 "metadata": {
  "kernelspec": {
   "display_name": "Python 3",
   "language": "python",
   "name": "python3"
  },
  "language_info": {
   "codemirror_mode": {
    "name": "ipython",
    "version": 2
   },
   "file_extension": ".py",
   "mimetype": "text/x-python",
   "name": "python",
   "nbconvert_exporter": "python",
   "pygments_lexer": "ipython2",
   "version": "2.7.6"
  }
 },
 "nbformat": 4,
 "nbformat_minor": 0
}
